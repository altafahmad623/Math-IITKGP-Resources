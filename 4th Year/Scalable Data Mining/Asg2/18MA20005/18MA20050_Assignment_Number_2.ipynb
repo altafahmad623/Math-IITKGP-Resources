{
  "nbformat": 4,
  "nbformat_minor": 0,
  "metadata": {
    "colab": {
      "name": "18MA20005_SDM_Assignment_2.ipynb",
      "provenance": [],
      "collapsed_sections": []
    },
    "kernelspec": {
      "name": "python3",
      "display_name": "Python 3"
    },
    "language_info": {
      "name": "python"
    },
    "accelerator": "GPU",
    "widgets": {
      "application/vnd.jupyter.widget-state+json": {
        "7c6408dcf48b4af2892a4c9d4b56fe14": {
          "model_module": "@jupyter-widgets/controls",
          "model_name": "HBoxModel",
          "model_module_version": "1.5.0",
          "state": {
            "_view_name": "HBoxView",
            "_dom_classes": [],
            "_model_name": "HBoxModel",
            "_view_module": "@jupyter-widgets/controls",
            "_model_module_version": "1.5.0",
            "_view_count": null,
            "_view_module_version": "1.5.0",
            "box_style": "",
            "layout": "IPY_MODEL_518e19630c8c44b2ab1d2a9dc5bcc360",
            "_model_module": "@jupyter-widgets/controls",
            "children": [
              "IPY_MODEL_df677553c0804bd2ba935ebb428242ee",
              "IPY_MODEL_724fffb4b19e43389513e17806678ada",
              "IPY_MODEL_5bfb260383d244a8b8acbce5e07ee5c7"
            ]
          }
        },
        "518e19630c8c44b2ab1d2a9dc5bcc360": {
          "model_module": "@jupyter-widgets/base",
          "model_name": "LayoutModel",
          "model_module_version": "1.2.0",
          "state": {
            "_view_name": "LayoutView",
            "grid_template_rows": null,
            "right": null,
            "justify_content": null,
            "_view_module": "@jupyter-widgets/base",
            "overflow": null,
            "_model_module_version": "1.2.0",
            "_view_count": null,
            "flex_flow": null,
            "width": null,
            "min_width": null,
            "border": null,
            "align_items": null,
            "bottom": null,
            "_model_module": "@jupyter-widgets/base",
            "top": null,
            "grid_column": null,
            "overflow_y": null,
            "overflow_x": null,
            "grid_auto_flow": null,
            "grid_area": null,
            "grid_template_columns": null,
            "flex": null,
            "_model_name": "LayoutModel",
            "justify_items": null,
            "grid_row": null,
            "max_height": null,
            "align_content": null,
            "visibility": null,
            "align_self": null,
            "height": null,
            "min_height": null,
            "padding": null,
            "grid_auto_rows": null,
            "grid_gap": null,
            "max_width": null,
            "order": null,
            "_view_module_version": "1.2.0",
            "grid_template_areas": null,
            "object_position": null,
            "object_fit": null,
            "grid_auto_columns": null,
            "margin": null,
            "display": null,
            "left": null
          }
        },
        "df677553c0804bd2ba935ebb428242ee": {
          "model_module": "@jupyter-widgets/controls",
          "model_name": "HTMLModel",
          "model_module_version": "1.5.0",
          "state": {
            "_view_name": "HTMLView",
            "style": "IPY_MODEL_3b271456e4a3448c96f9296185b06916",
            "_dom_classes": [],
            "description": "",
            "_model_name": "HTMLModel",
            "placeholder": "​",
            "_view_module": "@jupyter-widgets/controls",
            "_model_module_version": "1.5.0",
            "value": "",
            "_view_count": null,
            "_view_module_version": "1.5.0",
            "description_tooltip": null,
            "_model_module": "@jupyter-widgets/controls",
            "layout": "IPY_MODEL_507c2e1c90704b419104b2a5dba5c98b"
          }
        },
        "724fffb4b19e43389513e17806678ada": {
          "model_module": "@jupyter-widgets/controls",
          "model_name": "FloatProgressModel",
          "model_module_version": "1.5.0",
          "state": {
            "_view_name": "ProgressView",
            "style": "IPY_MODEL_817d7d08eed545afaf88be361e62b1bc",
            "_dom_classes": [],
            "description": "",
            "_model_name": "FloatProgressModel",
            "bar_style": "success",
            "max": 170498071,
            "_view_module": "@jupyter-widgets/controls",
            "_model_module_version": "1.5.0",
            "value": 170498071,
            "_view_count": null,
            "_view_module_version": "1.5.0",
            "orientation": "horizontal",
            "min": 0,
            "description_tooltip": null,
            "_model_module": "@jupyter-widgets/controls",
            "layout": "IPY_MODEL_18be6a3d586e49e0b371f2470ae2ce16"
          }
        },
        "5bfb260383d244a8b8acbce5e07ee5c7": {
          "model_module": "@jupyter-widgets/controls",
          "model_name": "HTMLModel",
          "model_module_version": "1.5.0",
          "state": {
            "_view_name": "HTMLView",
            "style": "IPY_MODEL_fc0d468c6f9b40578f93f56ae179f7b2",
            "_dom_classes": [],
            "description": "",
            "_model_name": "HTMLModel",
            "placeholder": "​",
            "_view_module": "@jupyter-widgets/controls",
            "_model_module_version": "1.5.0",
            "value": " 170499072/? [00:03&lt;00:00, 56999998.63it/s]",
            "_view_count": null,
            "_view_module_version": "1.5.0",
            "description_tooltip": null,
            "_model_module": "@jupyter-widgets/controls",
            "layout": "IPY_MODEL_5af229cee4e447588397c08fa5b2c527"
          }
        },
        "3b271456e4a3448c96f9296185b06916": {
          "model_module": "@jupyter-widgets/controls",
          "model_name": "DescriptionStyleModel",
          "model_module_version": "1.5.0",
          "state": {
            "_view_name": "StyleView",
            "_model_name": "DescriptionStyleModel",
            "description_width": "",
            "_view_module": "@jupyter-widgets/base",
            "_model_module_version": "1.5.0",
            "_view_count": null,
            "_view_module_version": "1.2.0",
            "_model_module": "@jupyter-widgets/controls"
          }
        },
        "507c2e1c90704b419104b2a5dba5c98b": {
          "model_module": "@jupyter-widgets/base",
          "model_name": "LayoutModel",
          "model_module_version": "1.2.0",
          "state": {
            "_view_name": "LayoutView",
            "grid_template_rows": null,
            "right": null,
            "justify_content": null,
            "_view_module": "@jupyter-widgets/base",
            "overflow": null,
            "_model_module_version": "1.2.0",
            "_view_count": null,
            "flex_flow": null,
            "width": null,
            "min_width": null,
            "border": null,
            "align_items": null,
            "bottom": null,
            "_model_module": "@jupyter-widgets/base",
            "top": null,
            "grid_column": null,
            "overflow_y": null,
            "overflow_x": null,
            "grid_auto_flow": null,
            "grid_area": null,
            "grid_template_columns": null,
            "flex": null,
            "_model_name": "LayoutModel",
            "justify_items": null,
            "grid_row": null,
            "max_height": null,
            "align_content": null,
            "visibility": null,
            "align_self": null,
            "height": null,
            "min_height": null,
            "padding": null,
            "grid_auto_rows": null,
            "grid_gap": null,
            "max_width": null,
            "order": null,
            "_view_module_version": "1.2.0",
            "grid_template_areas": null,
            "object_position": null,
            "object_fit": null,
            "grid_auto_columns": null,
            "margin": null,
            "display": null,
            "left": null
          }
        },
        "817d7d08eed545afaf88be361e62b1bc": {
          "model_module": "@jupyter-widgets/controls",
          "model_name": "ProgressStyleModel",
          "model_module_version": "1.5.0",
          "state": {
            "_view_name": "StyleView",
            "_model_name": "ProgressStyleModel",
            "description_width": "",
            "_view_module": "@jupyter-widgets/base",
            "_model_module_version": "1.5.0",
            "_view_count": null,
            "_view_module_version": "1.2.0",
            "bar_color": null,
            "_model_module": "@jupyter-widgets/controls"
          }
        },
        "18be6a3d586e49e0b371f2470ae2ce16": {
          "model_module": "@jupyter-widgets/base",
          "model_name": "LayoutModel",
          "model_module_version": "1.2.0",
          "state": {
            "_view_name": "LayoutView",
            "grid_template_rows": null,
            "right": null,
            "justify_content": null,
            "_view_module": "@jupyter-widgets/base",
            "overflow": null,
            "_model_module_version": "1.2.0",
            "_view_count": null,
            "flex_flow": null,
            "width": null,
            "min_width": null,
            "border": null,
            "align_items": null,
            "bottom": null,
            "_model_module": "@jupyter-widgets/base",
            "top": null,
            "grid_column": null,
            "overflow_y": null,
            "overflow_x": null,
            "grid_auto_flow": null,
            "grid_area": null,
            "grid_template_columns": null,
            "flex": null,
            "_model_name": "LayoutModel",
            "justify_items": null,
            "grid_row": null,
            "max_height": null,
            "align_content": null,
            "visibility": null,
            "align_self": null,
            "height": null,
            "min_height": null,
            "padding": null,
            "grid_auto_rows": null,
            "grid_gap": null,
            "max_width": null,
            "order": null,
            "_view_module_version": "1.2.0",
            "grid_template_areas": null,
            "object_position": null,
            "object_fit": null,
            "grid_auto_columns": null,
            "margin": null,
            "display": null,
            "left": null
          }
        },
        "fc0d468c6f9b40578f93f56ae179f7b2": {
          "model_module": "@jupyter-widgets/controls",
          "model_name": "DescriptionStyleModel",
          "model_module_version": "1.5.0",
          "state": {
            "_view_name": "StyleView",
            "_model_name": "DescriptionStyleModel",
            "description_width": "",
            "_view_module": "@jupyter-widgets/base",
            "_model_module_version": "1.5.0",
            "_view_count": null,
            "_view_module_version": "1.2.0",
            "_model_module": "@jupyter-widgets/controls"
          }
        },
        "5af229cee4e447588397c08fa5b2c527": {
          "model_module": "@jupyter-widgets/base",
          "model_name": "LayoutModel",
          "model_module_version": "1.2.0",
          "state": {
            "_view_name": "LayoutView",
            "grid_template_rows": null,
            "right": null,
            "justify_content": null,
            "_view_module": "@jupyter-widgets/base",
            "overflow": null,
            "_model_module_version": "1.2.0",
            "_view_count": null,
            "flex_flow": null,
            "width": null,
            "min_width": null,
            "border": null,
            "align_items": null,
            "bottom": null,
            "_model_module": "@jupyter-widgets/base",
            "top": null,
            "grid_column": null,
            "overflow_y": null,
            "overflow_x": null,
            "grid_auto_flow": null,
            "grid_area": null,
            "grid_template_columns": null,
            "flex": null,
            "_model_name": "LayoutModel",
            "justify_items": null,
            "grid_row": null,
            "max_height": null,
            "align_content": null,
            "visibility": null,
            "align_self": null,
            "height": null,
            "min_height": null,
            "padding": null,
            "grid_auto_rows": null,
            "grid_gap": null,
            "max_width": null,
            "order": null,
            "_view_module_version": "1.2.0",
            "grid_template_areas": null,
            "object_position": null,
            "object_fit": null,
            "grid_auto_columns": null,
            "margin": null,
            "display": null,
            "left": null
          }
        },
        "b21cdd1d774b47fd9db3abfa16846b26": {
          "model_module": "@jupyter-widgets/controls",
          "model_name": "HBoxModel",
          "model_module_version": "1.5.0",
          "state": {
            "_view_name": "HBoxView",
            "_dom_classes": [],
            "_model_name": "HBoxModel",
            "_view_module": "@jupyter-widgets/controls",
            "_model_module_version": "1.5.0",
            "_view_count": null,
            "_view_module_version": "1.5.0",
            "box_style": "",
            "layout": "IPY_MODEL_f314e5f1a51d49f7bafa446c4888dd4f",
            "_model_module": "@jupyter-widgets/controls",
            "children": [
              "IPY_MODEL_a9f4854aeb544594a81ce76c1f94e050",
              "IPY_MODEL_78986925e4af41d99d8bc32cc36dae9c",
              "IPY_MODEL_403bcd27db184742bb3157adaefb4b10"
            ]
          }
        },
        "f314e5f1a51d49f7bafa446c4888dd4f": {
          "model_module": "@jupyter-widgets/base",
          "model_name": "LayoutModel",
          "model_module_version": "1.2.0",
          "state": {
            "_view_name": "LayoutView",
            "grid_template_rows": null,
            "right": null,
            "justify_content": null,
            "_view_module": "@jupyter-widgets/base",
            "overflow": null,
            "_model_module_version": "1.2.0",
            "_view_count": null,
            "flex_flow": null,
            "width": null,
            "min_width": null,
            "border": null,
            "align_items": null,
            "bottom": null,
            "_model_module": "@jupyter-widgets/base",
            "top": null,
            "grid_column": null,
            "overflow_y": null,
            "overflow_x": null,
            "grid_auto_flow": null,
            "grid_area": null,
            "grid_template_columns": null,
            "flex": null,
            "_model_name": "LayoutModel",
            "justify_items": null,
            "grid_row": null,
            "max_height": null,
            "align_content": null,
            "visibility": null,
            "align_self": null,
            "height": null,
            "min_height": null,
            "padding": null,
            "grid_auto_rows": null,
            "grid_gap": null,
            "max_width": null,
            "order": null,
            "_view_module_version": "1.2.0",
            "grid_template_areas": null,
            "object_position": null,
            "object_fit": null,
            "grid_auto_columns": null,
            "margin": null,
            "display": null,
            "left": null
          }
        },
        "a9f4854aeb544594a81ce76c1f94e050": {
          "model_module": "@jupyter-widgets/controls",
          "model_name": "HTMLModel",
          "model_module_version": "1.5.0",
          "state": {
            "_view_name": "HTMLView",
            "style": "IPY_MODEL_bcbacf405484440cb6e0986c236df0e7",
            "_dom_classes": [],
            "description": "",
            "_model_name": "HTMLModel",
            "placeholder": "​",
            "_view_module": "@jupyter-widgets/controls",
            "_model_module_version": "1.5.0",
            "value": "100%",
            "_view_count": null,
            "_view_module_version": "1.5.0",
            "description_tooltip": null,
            "_model_module": "@jupyter-widgets/controls",
            "layout": "IPY_MODEL_1d420c72a8804cf2947554250362a371"
          }
        },
        "78986925e4af41d99d8bc32cc36dae9c": {
          "model_module": "@jupyter-widgets/controls",
          "model_name": "FloatProgressModel",
          "model_module_version": "1.5.0",
          "state": {
            "_view_name": "ProgressView",
            "style": "IPY_MODEL_bfe4a54c27304376bd8da26fd838b538",
            "_dom_classes": [],
            "description": "",
            "_model_name": "FloatProgressModel",
            "bar_style": "success",
            "max": 46830571,
            "_view_module": "@jupyter-widgets/controls",
            "_model_module_version": "1.5.0",
            "value": 46830571,
            "_view_count": null,
            "_view_module_version": "1.5.0",
            "orientation": "horizontal",
            "min": 0,
            "description_tooltip": null,
            "_model_module": "@jupyter-widgets/controls",
            "layout": "IPY_MODEL_653e4c6af93b462ea202b9beaa4d8857"
          }
        },
        "403bcd27db184742bb3157adaefb4b10": {
          "model_module": "@jupyter-widgets/controls",
          "model_name": "HTMLModel",
          "model_module_version": "1.5.0",
          "state": {
            "_view_name": "HTMLView",
            "style": "IPY_MODEL_e031bc45b2be46159df93b4b1636f29f",
            "_dom_classes": [],
            "description": "",
            "_model_name": "HTMLModel",
            "placeholder": "​",
            "_view_module": "@jupyter-widgets/controls",
            "_model_module_version": "1.5.0",
            "value": " 44.7M/44.7M [00:00&lt;00:00, 70.2MB/s]",
            "_view_count": null,
            "_view_module_version": "1.5.0",
            "description_tooltip": null,
            "_model_module": "@jupyter-widgets/controls",
            "layout": "IPY_MODEL_476db1495e4b4ba8a3ac5968883ab4f1"
          }
        },
        "bcbacf405484440cb6e0986c236df0e7": {
          "model_module": "@jupyter-widgets/controls",
          "model_name": "DescriptionStyleModel",
          "model_module_version": "1.5.0",
          "state": {
            "_view_name": "StyleView",
            "_model_name": "DescriptionStyleModel",
            "description_width": "",
            "_view_module": "@jupyter-widgets/base",
            "_model_module_version": "1.5.0",
            "_view_count": null,
            "_view_module_version": "1.2.0",
            "_model_module": "@jupyter-widgets/controls"
          }
        },
        "1d420c72a8804cf2947554250362a371": {
          "model_module": "@jupyter-widgets/base",
          "model_name": "LayoutModel",
          "model_module_version": "1.2.0",
          "state": {
            "_view_name": "LayoutView",
            "grid_template_rows": null,
            "right": null,
            "justify_content": null,
            "_view_module": "@jupyter-widgets/base",
            "overflow": null,
            "_model_module_version": "1.2.0",
            "_view_count": null,
            "flex_flow": null,
            "width": null,
            "min_width": null,
            "border": null,
            "align_items": null,
            "bottom": null,
            "_model_module": "@jupyter-widgets/base",
            "top": null,
            "grid_column": null,
            "overflow_y": null,
            "overflow_x": null,
            "grid_auto_flow": null,
            "grid_area": null,
            "grid_template_columns": null,
            "flex": null,
            "_model_name": "LayoutModel",
            "justify_items": null,
            "grid_row": null,
            "max_height": null,
            "align_content": null,
            "visibility": null,
            "align_self": null,
            "height": null,
            "min_height": null,
            "padding": null,
            "grid_auto_rows": null,
            "grid_gap": null,
            "max_width": null,
            "order": null,
            "_view_module_version": "1.2.0",
            "grid_template_areas": null,
            "object_position": null,
            "object_fit": null,
            "grid_auto_columns": null,
            "margin": null,
            "display": null,
            "left": null
          }
        },
        "bfe4a54c27304376bd8da26fd838b538": {
          "model_module": "@jupyter-widgets/controls",
          "model_name": "ProgressStyleModel",
          "model_module_version": "1.5.0",
          "state": {
            "_view_name": "StyleView",
            "_model_name": "ProgressStyleModel",
            "description_width": "",
            "_view_module": "@jupyter-widgets/base",
            "_model_module_version": "1.5.0",
            "_view_count": null,
            "_view_module_version": "1.2.0",
            "bar_color": null,
            "_model_module": "@jupyter-widgets/controls"
          }
        },
        "653e4c6af93b462ea202b9beaa4d8857": {
          "model_module": "@jupyter-widgets/base",
          "model_name": "LayoutModel",
          "model_module_version": "1.2.0",
          "state": {
            "_view_name": "LayoutView",
            "grid_template_rows": null,
            "right": null,
            "justify_content": null,
            "_view_module": "@jupyter-widgets/base",
            "overflow": null,
            "_model_module_version": "1.2.0",
            "_view_count": null,
            "flex_flow": null,
            "width": null,
            "min_width": null,
            "border": null,
            "align_items": null,
            "bottom": null,
            "_model_module": "@jupyter-widgets/base",
            "top": null,
            "grid_column": null,
            "overflow_y": null,
            "overflow_x": null,
            "grid_auto_flow": null,
            "grid_area": null,
            "grid_template_columns": null,
            "flex": null,
            "_model_name": "LayoutModel",
            "justify_items": null,
            "grid_row": null,
            "max_height": null,
            "align_content": null,
            "visibility": null,
            "align_self": null,
            "height": null,
            "min_height": null,
            "padding": null,
            "grid_auto_rows": null,
            "grid_gap": null,
            "max_width": null,
            "order": null,
            "_view_module_version": "1.2.0",
            "grid_template_areas": null,
            "object_position": null,
            "object_fit": null,
            "grid_auto_columns": null,
            "margin": null,
            "display": null,
            "left": null
          }
        },
        "e031bc45b2be46159df93b4b1636f29f": {
          "model_module": "@jupyter-widgets/controls",
          "model_name": "DescriptionStyleModel",
          "model_module_version": "1.5.0",
          "state": {
            "_view_name": "StyleView",
            "_model_name": "DescriptionStyleModel",
            "description_width": "",
            "_view_module": "@jupyter-widgets/base",
            "_model_module_version": "1.5.0",
            "_view_count": null,
            "_view_module_version": "1.2.0",
            "_model_module": "@jupyter-widgets/controls"
          }
        },
        "476db1495e4b4ba8a3ac5968883ab4f1": {
          "model_module": "@jupyter-widgets/base",
          "model_name": "LayoutModel",
          "model_module_version": "1.2.0",
          "state": {
            "_view_name": "LayoutView",
            "grid_template_rows": null,
            "right": null,
            "justify_content": null,
            "_view_module": "@jupyter-widgets/base",
            "overflow": null,
            "_model_module_version": "1.2.0",
            "_view_count": null,
            "flex_flow": null,
            "width": null,
            "min_width": null,
            "border": null,
            "align_items": null,
            "bottom": null,
            "_model_module": "@jupyter-widgets/base",
            "top": null,
            "grid_column": null,
            "overflow_y": null,
            "overflow_x": null,
            "grid_auto_flow": null,
            "grid_area": null,
            "grid_template_columns": null,
            "flex": null,
            "_model_name": "LayoutModel",
            "justify_items": null,
            "grid_row": null,
            "max_height": null,
            "align_content": null,
            "visibility": null,
            "align_self": null,
            "height": null,
            "min_height": null,
            "padding": null,
            "grid_auto_rows": null,
            "grid_gap": null,
            "max_width": null,
            "order": null,
            "_view_module_version": "1.2.0",
            "grid_template_areas": null,
            "object_position": null,
            "object_fit": null,
            "grid_auto_columns": null,
            "margin": null,
            "display": null,
            "left": null
          }
        },
        "d73fd8831a274e0d9398b71b3ede13fc": {
          "model_module": "@jupyter-widgets/controls",
          "model_name": "VBoxModel",
          "model_module_version": "1.5.0",
          "state": {
            "_view_name": "VBoxView",
            "_dom_classes": [],
            "_model_name": "VBoxModel",
            "_view_module": "@jupyter-widgets/controls",
            "_model_module_version": "1.5.0",
            "_view_count": null,
            "_view_module_version": "1.5.0",
            "box_style": "",
            "layout": "IPY_MODEL_79a16379470346eeb81ff87c06f555f7",
            "_model_module": "@jupyter-widgets/controls",
            "children": [
              "IPY_MODEL_d10652370a66499e88d48000e32c4c74",
              "IPY_MODEL_1aebc204e01a4a3fb97f5c93761d208e"
            ]
          }
        },
        "79a16379470346eeb81ff87c06f555f7": {
          "model_module": "@jupyter-widgets/base",
          "model_name": "LayoutModel",
          "model_module_version": "1.2.0",
          "state": {
            "_view_name": "LayoutView",
            "grid_template_rows": null,
            "right": null,
            "justify_content": null,
            "_view_module": "@jupyter-widgets/base",
            "overflow": null,
            "_model_module_version": "1.2.0",
            "_view_count": null,
            "flex_flow": null,
            "width": null,
            "min_width": null,
            "border": null,
            "align_items": null,
            "bottom": null,
            "_model_module": "@jupyter-widgets/base",
            "top": null,
            "grid_column": null,
            "overflow_y": null,
            "overflow_x": null,
            "grid_auto_flow": null,
            "grid_area": null,
            "grid_template_columns": null,
            "flex": null,
            "_model_name": "LayoutModel",
            "justify_items": null,
            "grid_row": null,
            "max_height": null,
            "align_content": null,
            "visibility": null,
            "align_self": null,
            "height": null,
            "min_height": null,
            "padding": null,
            "grid_auto_rows": null,
            "grid_gap": null,
            "max_width": null,
            "order": null,
            "_view_module_version": "1.2.0",
            "grid_template_areas": null,
            "object_position": null,
            "object_fit": null,
            "grid_auto_columns": null,
            "margin": null,
            "display": null,
            "left": null
          }
        },
        "d10652370a66499e88d48000e32c4c74": {
          "model_module": "@jupyter-widgets/controls",
          "model_name": "LabelModel",
          "model_module_version": "1.5.0",
          "state": {
            "_view_name": "LabelView",
            "style": "IPY_MODEL_f509866c43df45ef81408c2bd09854c9",
            "_dom_classes": [],
            "description": "",
            "_model_name": "LabelModel",
            "placeholder": "​",
            "_view_module": "@jupyter-widgets/controls",
            "_model_module_version": "1.5.0",
            "value": " 49.61MB of 49.61MB uploaded (0.00MB deduped)\r",
            "_view_count": null,
            "_view_module_version": "1.5.0",
            "description_tooltip": null,
            "_model_module": "@jupyter-widgets/controls",
            "layout": "IPY_MODEL_bc8dfd1b7ab3460d842ef94a69328043"
          }
        },
        "1aebc204e01a4a3fb97f5c93761d208e": {
          "model_module": "@jupyter-widgets/controls",
          "model_name": "FloatProgressModel",
          "model_module_version": "1.5.0",
          "state": {
            "_view_name": "ProgressView",
            "style": "IPY_MODEL_a1b0f971efc141128e3d4dd5f72ca58a",
            "_dom_classes": [],
            "description": "",
            "_model_name": "FloatProgressModel",
            "bar_style": "",
            "max": 1,
            "_view_module": "@jupyter-widgets/controls",
            "_model_module_version": "1.5.0",
            "value": 1,
            "_view_count": null,
            "_view_module_version": "1.5.0",
            "orientation": "horizontal",
            "min": 0,
            "description_tooltip": null,
            "_model_module": "@jupyter-widgets/controls",
            "layout": "IPY_MODEL_6b84d1f3c5d247ddbcd0fa39cae11774"
          }
        },
        "f509866c43df45ef81408c2bd09854c9": {
          "model_module": "@jupyter-widgets/controls",
          "model_name": "DescriptionStyleModel",
          "model_module_version": "1.5.0",
          "state": {
            "_view_name": "StyleView",
            "_model_name": "DescriptionStyleModel",
            "description_width": "",
            "_view_module": "@jupyter-widgets/base",
            "_model_module_version": "1.5.0",
            "_view_count": null,
            "_view_module_version": "1.2.0",
            "_model_module": "@jupyter-widgets/controls"
          }
        },
        "bc8dfd1b7ab3460d842ef94a69328043": {
          "model_module": "@jupyter-widgets/base",
          "model_name": "LayoutModel",
          "model_module_version": "1.2.0",
          "state": {
            "_view_name": "LayoutView",
            "grid_template_rows": null,
            "right": null,
            "justify_content": null,
            "_view_module": "@jupyter-widgets/base",
            "overflow": null,
            "_model_module_version": "1.2.0",
            "_view_count": null,
            "flex_flow": null,
            "width": null,
            "min_width": null,
            "border": null,
            "align_items": null,
            "bottom": null,
            "_model_module": "@jupyter-widgets/base",
            "top": null,
            "grid_column": null,
            "overflow_y": null,
            "overflow_x": null,
            "grid_auto_flow": null,
            "grid_area": null,
            "grid_template_columns": null,
            "flex": null,
            "_model_name": "LayoutModel",
            "justify_items": null,
            "grid_row": null,
            "max_height": null,
            "align_content": null,
            "visibility": null,
            "align_self": null,
            "height": null,
            "min_height": null,
            "padding": null,
            "grid_auto_rows": null,
            "grid_gap": null,
            "max_width": null,
            "order": null,
            "_view_module_version": "1.2.0",
            "grid_template_areas": null,
            "object_position": null,
            "object_fit": null,
            "grid_auto_columns": null,
            "margin": null,
            "display": null,
            "left": null
          }
        },
        "a1b0f971efc141128e3d4dd5f72ca58a": {
          "model_module": "@jupyter-widgets/controls",
          "model_name": "ProgressStyleModel",
          "model_module_version": "1.5.0",
          "state": {
            "_view_name": "StyleView",
            "_model_name": "ProgressStyleModel",
            "description_width": "",
            "_view_module": "@jupyter-widgets/base",
            "_model_module_version": "1.5.0",
            "_view_count": null,
            "_view_module_version": "1.2.0",
            "bar_color": null,
            "_model_module": "@jupyter-widgets/controls"
          }
        },
        "6b84d1f3c5d247ddbcd0fa39cae11774": {
          "model_module": "@jupyter-widgets/base",
          "model_name": "LayoutModel",
          "model_module_version": "1.2.0",
          "state": {
            "_view_name": "LayoutView",
            "grid_template_rows": null,
            "right": null,
            "justify_content": null,
            "_view_module": "@jupyter-widgets/base",
            "overflow": null,
            "_model_module_version": "1.2.0",
            "_view_count": null,
            "flex_flow": null,
            "width": null,
            "min_width": null,
            "border": null,
            "align_items": null,
            "bottom": null,
            "_model_module": "@jupyter-widgets/base",
            "top": null,
            "grid_column": null,
            "overflow_y": null,
            "overflow_x": null,
            "grid_auto_flow": null,
            "grid_area": null,
            "grid_template_columns": null,
            "flex": null,
            "_model_name": "LayoutModel",
            "justify_items": null,
            "grid_row": null,
            "max_height": null,
            "align_content": null,
            "visibility": null,
            "align_self": null,
            "height": null,
            "min_height": null,
            "padding": null,
            "grid_auto_rows": null,
            "grid_gap": null,
            "max_width": null,
            "order": null,
            "_view_module_version": "1.2.0",
            "grid_template_areas": null,
            "object_position": null,
            "object_fit": null,
            "grid_auto_columns": null,
            "margin": null,
            "display": null,
            "left": null
          }
        },
        "306c9fc905fd4710953f300cd7357de7": {
          "model_module": "@jupyter-widgets/controls",
          "model_name": "VBoxModel",
          "model_module_version": "1.5.0",
          "state": {
            "_view_name": "VBoxView",
            "_dom_classes": [],
            "_model_name": "VBoxModel",
            "_view_module": "@jupyter-widgets/controls",
            "_model_module_version": "1.5.0",
            "_view_count": null,
            "_view_module_version": "1.5.0",
            "box_style": "",
            "layout": "IPY_MODEL_a64acde166b14caea00733bcc1740dd5",
            "_model_module": "@jupyter-widgets/controls",
            "children": [
              "IPY_MODEL_ebaa76d2e6484b629c7aeca1005f089d",
              "IPY_MODEL_410ab710e0a747268d6ae8289d31fee0"
            ]
          }
        },
        "a64acde166b14caea00733bcc1740dd5": {
          "model_module": "@jupyter-widgets/base",
          "model_name": "LayoutModel",
          "model_module_version": "1.2.0",
          "state": {
            "_view_name": "LayoutView",
            "grid_template_rows": null,
            "right": null,
            "justify_content": null,
            "_view_module": "@jupyter-widgets/base",
            "overflow": null,
            "_model_module_version": "1.2.0",
            "_view_count": null,
            "flex_flow": null,
            "width": null,
            "min_width": null,
            "border": null,
            "align_items": null,
            "bottom": null,
            "_model_module": "@jupyter-widgets/base",
            "top": null,
            "grid_column": null,
            "overflow_y": null,
            "overflow_x": null,
            "grid_auto_flow": null,
            "grid_area": null,
            "grid_template_columns": null,
            "flex": null,
            "_model_name": "LayoutModel",
            "justify_items": null,
            "grid_row": null,
            "max_height": null,
            "align_content": null,
            "visibility": null,
            "align_self": null,
            "height": null,
            "min_height": null,
            "padding": null,
            "grid_auto_rows": null,
            "grid_gap": null,
            "max_width": null,
            "order": null,
            "_view_module_version": "1.2.0",
            "grid_template_areas": null,
            "object_position": null,
            "object_fit": null,
            "grid_auto_columns": null,
            "margin": null,
            "display": null,
            "left": null
          }
        },
        "ebaa76d2e6484b629c7aeca1005f089d": {
          "model_module": "@jupyter-widgets/controls",
          "model_name": "LabelModel",
          "model_module_version": "1.5.0",
          "state": {
            "_view_name": "LabelView",
            "style": "IPY_MODEL_5ceeb6e722554c62b7ba77d56de63819",
            "_dom_classes": [],
            "description": "",
            "_model_name": "LabelModel",
            "placeholder": "​",
            "_view_module": "@jupyter-widgets/controls",
            "_model_module_version": "1.5.0",
            "value": " 52.91MB of 52.91MB uploaded (0.00MB deduped)\r",
            "_view_count": null,
            "_view_module_version": "1.5.0",
            "description_tooltip": null,
            "_model_module": "@jupyter-widgets/controls",
            "layout": "IPY_MODEL_b1a3cd54fbd4434fa54a06d690ef72fc"
          }
        },
        "410ab710e0a747268d6ae8289d31fee0": {
          "model_module": "@jupyter-widgets/controls",
          "model_name": "FloatProgressModel",
          "model_module_version": "1.5.0",
          "state": {
            "_view_name": "ProgressView",
            "style": "IPY_MODEL_f189119f4dd745c8b3a061da0d6df946",
            "_dom_classes": [],
            "description": "",
            "_model_name": "FloatProgressModel",
            "bar_style": "",
            "max": 1,
            "_view_module": "@jupyter-widgets/controls",
            "_model_module_version": "1.5.0",
            "value": 1,
            "_view_count": null,
            "_view_module_version": "1.5.0",
            "orientation": "horizontal",
            "min": 0,
            "description_tooltip": null,
            "_model_module": "@jupyter-widgets/controls",
            "layout": "IPY_MODEL_3e26f3451325450b8ac8640f98bc4b3c"
          }
        },
        "5ceeb6e722554c62b7ba77d56de63819": {
          "model_module": "@jupyter-widgets/controls",
          "model_name": "DescriptionStyleModel",
          "model_module_version": "1.5.0",
          "state": {
            "_view_name": "StyleView",
            "_model_name": "DescriptionStyleModel",
            "description_width": "",
            "_view_module": "@jupyter-widgets/base",
            "_model_module_version": "1.5.0",
            "_view_count": null,
            "_view_module_version": "1.2.0",
            "_model_module": "@jupyter-widgets/controls"
          }
        },
        "b1a3cd54fbd4434fa54a06d690ef72fc": {
          "model_module": "@jupyter-widgets/base",
          "model_name": "LayoutModel",
          "model_module_version": "1.2.0",
          "state": {
            "_view_name": "LayoutView",
            "grid_template_rows": null,
            "right": null,
            "justify_content": null,
            "_view_module": "@jupyter-widgets/base",
            "overflow": null,
            "_model_module_version": "1.2.0",
            "_view_count": null,
            "flex_flow": null,
            "width": null,
            "min_width": null,
            "border": null,
            "align_items": null,
            "bottom": null,
            "_model_module": "@jupyter-widgets/base",
            "top": null,
            "grid_column": null,
            "overflow_y": null,
            "overflow_x": null,
            "grid_auto_flow": null,
            "grid_area": null,
            "grid_template_columns": null,
            "flex": null,
            "_model_name": "LayoutModel",
            "justify_items": null,
            "grid_row": null,
            "max_height": null,
            "align_content": null,
            "visibility": null,
            "align_self": null,
            "height": null,
            "min_height": null,
            "padding": null,
            "grid_auto_rows": null,
            "grid_gap": null,
            "max_width": null,
            "order": null,
            "_view_module_version": "1.2.0",
            "grid_template_areas": null,
            "object_position": null,
            "object_fit": null,
            "grid_auto_columns": null,
            "margin": null,
            "display": null,
            "left": null
          }
        },
        "f189119f4dd745c8b3a061da0d6df946": {
          "model_module": "@jupyter-widgets/controls",
          "model_name": "ProgressStyleModel",
          "model_module_version": "1.5.0",
          "state": {
            "_view_name": "StyleView",
            "_model_name": "ProgressStyleModel",
            "description_width": "",
            "_view_module": "@jupyter-widgets/base",
            "_model_module_version": "1.5.0",
            "_view_count": null,
            "_view_module_version": "1.2.0",
            "bar_color": null,
            "_model_module": "@jupyter-widgets/controls"
          }
        },
        "3e26f3451325450b8ac8640f98bc4b3c": {
          "model_module": "@jupyter-widgets/base",
          "model_name": "LayoutModel",
          "model_module_version": "1.2.0",
          "state": {
            "_view_name": "LayoutView",
            "grid_template_rows": null,
            "right": null,
            "justify_content": null,
            "_view_module": "@jupyter-widgets/base",
            "overflow": null,
            "_model_module_version": "1.2.0",
            "_view_count": null,
            "flex_flow": null,
            "width": null,
            "min_width": null,
            "border": null,
            "align_items": null,
            "bottom": null,
            "_model_module": "@jupyter-widgets/base",
            "top": null,
            "grid_column": null,
            "overflow_y": null,
            "overflow_x": null,
            "grid_auto_flow": null,
            "grid_area": null,
            "grid_template_columns": null,
            "flex": null,
            "_model_name": "LayoutModel",
            "justify_items": null,
            "grid_row": null,
            "max_height": null,
            "align_content": null,
            "visibility": null,
            "align_self": null,
            "height": null,
            "min_height": null,
            "padding": null,
            "grid_auto_rows": null,
            "grid_gap": null,
            "max_width": null,
            "order": null,
            "_view_module_version": "1.2.0",
            "grid_template_areas": null,
            "object_position": null,
            "object_fit": null,
            "grid_auto_columns": null,
            "margin": null,
            "display": null,
            "left": null
          }
        },
        "55e560d36c1d42b8b3d844ccf5edc220": {
          "model_module": "@jupyter-widgets/controls",
          "model_name": "VBoxModel",
          "model_module_version": "1.5.0",
          "state": {
            "_view_name": "VBoxView",
            "_dom_classes": [],
            "_model_name": "VBoxModel",
            "_view_module": "@jupyter-widgets/controls",
            "_model_module_version": "1.5.0",
            "_view_count": null,
            "_view_module_version": "1.5.0",
            "box_style": "",
            "layout": "IPY_MODEL_82a8d47e64144c01b66eef7befe9eacc",
            "_model_module": "@jupyter-widgets/controls",
            "children": [
              "IPY_MODEL_740497962c3a490ca3b95304d19f2f77",
              "IPY_MODEL_ffb705b5119745b9ba603a3050331841"
            ]
          }
        },
        "82a8d47e64144c01b66eef7befe9eacc": {
          "model_module": "@jupyter-widgets/base",
          "model_name": "LayoutModel",
          "model_module_version": "1.2.0",
          "state": {
            "_view_name": "LayoutView",
            "grid_template_rows": null,
            "right": null,
            "justify_content": null,
            "_view_module": "@jupyter-widgets/base",
            "overflow": null,
            "_model_module_version": "1.2.0",
            "_view_count": null,
            "flex_flow": null,
            "width": null,
            "min_width": null,
            "border": null,
            "align_items": null,
            "bottom": null,
            "_model_module": "@jupyter-widgets/base",
            "top": null,
            "grid_column": null,
            "overflow_y": null,
            "overflow_x": null,
            "grid_auto_flow": null,
            "grid_area": null,
            "grid_template_columns": null,
            "flex": null,
            "_model_name": "LayoutModel",
            "justify_items": null,
            "grid_row": null,
            "max_height": null,
            "align_content": null,
            "visibility": null,
            "align_self": null,
            "height": null,
            "min_height": null,
            "padding": null,
            "grid_auto_rows": null,
            "grid_gap": null,
            "max_width": null,
            "order": null,
            "_view_module_version": "1.2.0",
            "grid_template_areas": null,
            "object_position": null,
            "object_fit": null,
            "grid_auto_columns": null,
            "margin": null,
            "display": null,
            "left": null
          }
        },
        "740497962c3a490ca3b95304d19f2f77": {
          "model_module": "@jupyter-widgets/controls",
          "model_name": "LabelModel",
          "model_module_version": "1.5.0",
          "state": {
            "_view_name": "LabelView",
            "style": "IPY_MODEL_c1b1e04b095c474882b67ef870ead1c0",
            "_dom_classes": [],
            "description": "",
            "_model_name": "LabelModel",
            "placeholder": "​",
            "_view_module": "@jupyter-widgets/controls",
            "_model_module_version": "1.5.0",
            "value": " 51.26MB of 51.26MB uploaded (0.00MB deduped)\r",
            "_view_count": null,
            "_view_module_version": "1.5.0",
            "description_tooltip": null,
            "_model_module": "@jupyter-widgets/controls",
            "layout": "IPY_MODEL_7dccac99eacc4e5d9d2ec077b3a35f20"
          }
        },
        "ffb705b5119745b9ba603a3050331841": {
          "model_module": "@jupyter-widgets/controls",
          "model_name": "FloatProgressModel",
          "model_module_version": "1.5.0",
          "state": {
            "_view_name": "ProgressView",
            "style": "IPY_MODEL_47fe87f0a56e45f9be0020a90dfd2ebf",
            "_dom_classes": [],
            "description": "",
            "_model_name": "FloatProgressModel",
            "bar_style": "",
            "max": 1,
            "_view_module": "@jupyter-widgets/controls",
            "_model_module_version": "1.5.0",
            "value": 1,
            "_view_count": null,
            "_view_module_version": "1.5.0",
            "orientation": "horizontal",
            "min": 0,
            "description_tooltip": null,
            "_model_module": "@jupyter-widgets/controls",
            "layout": "IPY_MODEL_1e533f30a192421a9060ba90e2c094d4"
          }
        },
        "c1b1e04b095c474882b67ef870ead1c0": {
          "model_module": "@jupyter-widgets/controls",
          "model_name": "DescriptionStyleModel",
          "model_module_version": "1.5.0",
          "state": {
            "_view_name": "StyleView",
            "_model_name": "DescriptionStyleModel",
            "description_width": "",
            "_view_module": "@jupyter-widgets/base",
            "_model_module_version": "1.5.0",
            "_view_count": null,
            "_view_module_version": "1.2.0",
            "_model_module": "@jupyter-widgets/controls"
          }
        },
        "7dccac99eacc4e5d9d2ec077b3a35f20": {
          "model_module": "@jupyter-widgets/base",
          "model_name": "LayoutModel",
          "model_module_version": "1.2.0",
          "state": {
            "_view_name": "LayoutView",
            "grid_template_rows": null,
            "right": null,
            "justify_content": null,
            "_view_module": "@jupyter-widgets/base",
            "overflow": null,
            "_model_module_version": "1.2.0",
            "_view_count": null,
            "flex_flow": null,
            "width": null,
            "min_width": null,
            "border": null,
            "align_items": null,
            "bottom": null,
            "_model_module": "@jupyter-widgets/base",
            "top": null,
            "grid_column": null,
            "overflow_y": null,
            "overflow_x": null,
            "grid_auto_flow": null,
            "grid_area": null,
            "grid_template_columns": null,
            "flex": null,
            "_model_name": "LayoutModel",
            "justify_items": null,
            "grid_row": null,
            "max_height": null,
            "align_content": null,
            "visibility": null,
            "align_self": null,
            "height": null,
            "min_height": null,
            "padding": null,
            "grid_auto_rows": null,
            "grid_gap": null,
            "max_width": null,
            "order": null,
            "_view_module_version": "1.2.0",
            "grid_template_areas": null,
            "object_position": null,
            "object_fit": null,
            "grid_auto_columns": null,
            "margin": null,
            "display": null,
            "left": null
          }
        },
        "47fe87f0a56e45f9be0020a90dfd2ebf": {
          "model_module": "@jupyter-widgets/controls",
          "model_name": "ProgressStyleModel",
          "model_module_version": "1.5.0",
          "state": {
            "_view_name": "StyleView",
            "_model_name": "ProgressStyleModel",
            "description_width": "",
            "_view_module": "@jupyter-widgets/base",
            "_model_module_version": "1.5.0",
            "_view_count": null,
            "_view_module_version": "1.2.0",
            "bar_color": null,
            "_model_module": "@jupyter-widgets/controls"
          }
        },
        "1e533f30a192421a9060ba90e2c094d4": {
          "model_module": "@jupyter-widgets/base",
          "model_name": "LayoutModel",
          "model_module_version": "1.2.0",
          "state": {
            "_view_name": "LayoutView",
            "grid_template_rows": null,
            "right": null,
            "justify_content": null,
            "_view_module": "@jupyter-widgets/base",
            "overflow": null,
            "_model_module_version": "1.2.0",
            "_view_count": null,
            "flex_flow": null,
            "width": null,
            "min_width": null,
            "border": null,
            "align_items": null,
            "bottom": null,
            "_model_module": "@jupyter-widgets/base",
            "top": null,
            "grid_column": null,
            "overflow_y": null,
            "overflow_x": null,
            "grid_auto_flow": null,
            "grid_area": null,
            "grid_template_columns": null,
            "flex": null,
            "_model_name": "LayoutModel",
            "justify_items": null,
            "grid_row": null,
            "max_height": null,
            "align_content": null,
            "visibility": null,
            "align_self": null,
            "height": null,
            "min_height": null,
            "padding": null,
            "grid_auto_rows": null,
            "grid_gap": null,
            "max_width": null,
            "order": null,
            "_view_module_version": "1.2.0",
            "grid_template_areas": null,
            "object_position": null,
            "object_fit": null,
            "grid_auto_columns": null,
            "margin": null,
            "display": null,
            "left": null
          }
        }
      }
    }
  },
  "cells": [
    {
      "cell_type": "markdown",
      "metadata": {
        "id": "EF2Xn0DK0myJ"
      },
      "source": [
        "# <B>Scalable Data Mining </B>\n",
        "## Assignment : 2\n",
        "### Name :  Altaf Ahmad \n",
        "### Roll no : 18MA20005"
      ]
    },
    {
      "cell_type": "markdown",
      "metadata": {
        "id": "MUW_xATh1Iam"
      },
      "source": [
        "Training and Testing Convolutional Neural Networks for image classification on CIFAR10 dataset using PyTorch Module"
      ]
    },
    {
      "cell_type": "code",
      "metadata": {
        "colab": {
          "base_uri": "https://localhost:8080/"
        },
        "id": "iQ1_4q3S3Nsl",
        "outputId": "b0a8ce0d-35dc-4266-a926-b1a039a2ed1a"
      },
      "source": [
        "!pip install wandb"
      ],
      "execution_count": null,
      "outputs": [
        {
          "output_type": "stream",
          "name": "stdout",
          "text": [
            "Collecting wandb\n",
            "  Downloading wandb-0.12.2-py2.py3-none-any.whl (1.7 MB)\n",
            "\u001b[K     |████████████████████████████████| 1.7 MB 5.4 MB/s \n",
            "\u001b[?25hRequirement already satisfied: requests<3,>=2.0.0 in /usr/local/lib/python3.7/dist-packages (from wandb) (2.23.0)\n",
            "Requirement already satisfied: promise<3,>=2.0 in /usr/local/lib/python3.7/dist-packages (from wandb) (2.3)\n",
            "Requirement already satisfied: Click!=8.0.0,>=7.0 in /usr/local/lib/python3.7/dist-packages (from wandb) (7.1.2)\n",
            "Collecting shortuuid>=0.5.0\n",
            "  Downloading shortuuid-1.0.1-py3-none-any.whl (7.5 kB)\n",
            "Requirement already satisfied: six>=1.13.0 in /usr/local/lib/python3.7/dist-packages (from wandb) (1.15.0)\n",
            "Requirement already satisfied: python-dateutil>=2.6.1 in /usr/local/lib/python3.7/dist-packages (from wandb) (2.8.2)\n",
            "Collecting docker-pycreds>=0.4.0\n",
            "  Downloading docker_pycreds-0.4.0-py2.py3-none-any.whl (9.0 kB)\n",
            "Collecting subprocess32>=3.5.3\n",
            "  Downloading subprocess32-3.5.4.tar.gz (97 kB)\n",
            "\u001b[K     |████████████████████████████████| 97 kB 6.6 MB/s \n",
            "\u001b[?25hRequirement already satisfied: psutil>=5.0.0 in /usr/local/lib/python3.7/dist-packages (from wandb) (5.4.8)\n",
            "Collecting configparser>=3.8.1\n",
            "  Downloading configparser-5.0.2-py3-none-any.whl (19 kB)\n",
            "Collecting sentry-sdk>=1.0.0\n",
            "  Downloading sentry_sdk-1.3.1-py2.py3-none-any.whl (133 kB)\n",
            "\u001b[K     |████████████████████████████████| 133 kB 40.8 MB/s \n",
            "\u001b[?25hRequirement already satisfied: PyYAML in /usr/local/lib/python3.7/dist-packages (from wandb) (3.13)\n",
            "Requirement already satisfied: protobuf>=3.12.0 in /usr/local/lib/python3.7/dist-packages (from wandb) (3.17.3)\n",
            "Collecting yaspin>=1.0.0\n",
            "  Downloading yaspin-2.1.0-py3-none-any.whl (18 kB)\n",
            "Collecting pathtools\n",
            "  Downloading pathtools-0.1.2.tar.gz (11 kB)\n",
            "Collecting GitPython>=1.0.0\n",
            "  Downloading GitPython-3.1.24-py3-none-any.whl (180 kB)\n",
            "\u001b[K     |████████████████████████████████| 180 kB 46.1 MB/s \n",
            "\u001b[?25hCollecting gitdb<5,>=4.0.1\n",
            "  Downloading gitdb-4.0.7-py3-none-any.whl (63 kB)\n",
            "\u001b[K     |████████████████████████████████| 63 kB 1.8 MB/s \n",
            "\u001b[?25hRequirement already satisfied: typing-extensions>=3.7.4.3 in /usr/local/lib/python3.7/dist-packages (from GitPython>=1.0.0->wandb) (3.7.4.3)\n",
            "Collecting smmap<5,>=3.0.1\n",
            "  Downloading smmap-4.0.0-py2.py3-none-any.whl (24 kB)\n",
            "Requirement already satisfied: certifi>=2017.4.17 in /usr/local/lib/python3.7/dist-packages (from requests<3,>=2.0.0->wandb) (2021.5.30)\n",
            "Requirement already satisfied: idna<3,>=2.5 in /usr/local/lib/python3.7/dist-packages (from requests<3,>=2.0.0->wandb) (2.10)\n",
            "Requirement already satisfied: urllib3!=1.25.0,!=1.25.1,<1.26,>=1.21.1 in /usr/local/lib/python3.7/dist-packages (from requests<3,>=2.0.0->wandb) (1.24.3)\n",
            "Requirement already satisfied: chardet<4,>=3.0.2 in /usr/local/lib/python3.7/dist-packages (from requests<3,>=2.0.0->wandb) (3.0.4)\n",
            "Requirement already satisfied: termcolor<2.0.0,>=1.1.0 in /usr/local/lib/python3.7/dist-packages (from yaspin>=1.0.0->wandb) (1.1.0)\n",
            "Building wheels for collected packages: subprocess32, pathtools\n",
            "  Building wheel for subprocess32 (setup.py) ... \u001b[?25l\u001b[?25hdone\n",
            "  Created wheel for subprocess32: filename=subprocess32-3.5.4-py3-none-any.whl size=6502 sha256=954b2cf6cef6fd74ffb71fc0e506f76eab573a4fa466866d3d7c613131edc027\n",
            "  Stored in directory: /root/.cache/pip/wheels/50/ca/fa/8fca8d246e64f19488d07567547ddec8eb084e8c0d7a59226a\n",
            "  Building wheel for pathtools (setup.py) ... \u001b[?25l\u001b[?25hdone\n",
            "  Created wheel for pathtools: filename=pathtools-0.1.2-py3-none-any.whl size=8807 sha256=8758194f5c953b92e5feed18224791ec32e39cff11e25f170d77fb7dc576ec24\n",
            "  Stored in directory: /root/.cache/pip/wheels/3e/31/09/fa59cef12cdcfecc627b3d24273699f390e71828921b2cbba2\n",
            "Successfully built subprocess32 pathtools\n",
            "Installing collected packages: smmap, gitdb, yaspin, subprocess32, shortuuid, sentry-sdk, pathtools, GitPython, docker-pycreds, configparser, wandb\n",
            "Successfully installed GitPython-3.1.24 configparser-5.0.2 docker-pycreds-0.4.0 gitdb-4.0.7 pathtools-0.1.2 sentry-sdk-1.3.1 shortuuid-1.0.1 smmap-4.0.0 subprocess32-3.5.4 wandb-0.12.2 yaspin-2.1.0\n"
          ]
        }
      ]
    },
    {
      "cell_type": "code",
      "metadata": {
        "id": "fYjtG0F90inG"
      },
      "source": [
        "from __future__ import print_function\n",
        "import argparse\n",
        "import random\n",
        "import numpy as np\n",
        "import os\n",
        "import sys\n",
        "import torch\n",
        "import torch.nn as nn\n",
        "import torch.optim as optim\n",
        "import torch.nn.functional as F\n",
        "import torch.backends.cudnn as cudnn\n",
        "import torchvision\n",
        "from torchvision import datasets, transforms\n",
        "import wandb"
      ],
      "execution_count": null,
      "outputs": []
    },
    {
      "cell_type": "code",
      "metadata": {
        "colab": {
          "base_uri": "https://localhost:8080/",
          "height": 68
        },
        "id": "XyFFxwIv0xGC",
        "outputId": "0c703ebb-9c91-4667-db93-3ab98f4412b7"
      },
      "source": [
        "wandb.login()"
      ],
      "execution_count": null,
      "outputs": [
        {
          "output_type": "display_data",
          "data": {
            "application/javascript": [
              "\n",
              "        window._wandbApiKey = new Promise((resolve, reject) => {\n",
              "            function loadScript(url) {\n",
              "            return new Promise(function(resolve, reject) {\n",
              "                let newScript = document.createElement(\"script\");\n",
              "                newScript.onerror = reject;\n",
              "                newScript.onload = resolve;\n",
              "                document.body.appendChild(newScript);\n",
              "                newScript.src = url;\n",
              "            });\n",
              "            }\n",
              "            loadScript(\"https://cdn.jsdelivr.net/npm/postmate/build/postmate.min.js\").then(() => {\n",
              "            const iframe = document.createElement('iframe')\n",
              "            iframe.style.cssText = \"width:0;height:0;border:none\"\n",
              "            document.body.appendChild(iframe)\n",
              "            const handshake = new Postmate({\n",
              "                container: iframe,\n",
              "                url: 'https://wandb.ai/authorize'\n",
              "            });\n",
              "            const timeout = setTimeout(() => reject(\"Couldn't auto authenticate\"), 5000)\n",
              "            handshake.then(function(child) {\n",
              "                child.on('authorize', data => {\n",
              "                    clearTimeout(timeout)\n",
              "                    resolve(data)\n",
              "                });\n",
              "            });\n",
              "            })\n",
              "        });\n",
              "    "
            ],
            "text/plain": [
              "<IPython.core.display.Javascript object>"
            ]
          },
          "metadata": {}
        },
        {
          "output_type": "stream",
          "name": "stderr",
          "text": [
            "\u001b[34m\u001b[1mwandb\u001b[0m: Appending key for api.wandb.ai to your netrc file: /root/.netrc\n"
          ]
        },
        {
          "output_type": "execute_result",
          "data": {
            "text/plain": [
              "True"
            ]
          },
          "metadata": {},
          "execution_count": 3
        }
      ]
    },
    {
      "cell_type": "markdown",
      "metadata": {
        "id": "CCOtWoU93biP"
      },
      "source": [
        "1. <B>Data Load</b>: Using the file main.py given in the above link to load the data and carry on\n",
        "further experiments."
      ]
    },
    {
      "cell_type": "code",
      "metadata": {
        "colab": {
          "base_uri": "https://localhost:8080/",
          "height": 117,
          "referenced_widgets": [
            "7c6408dcf48b4af2892a4c9d4b56fe14",
            "518e19630c8c44b2ab1d2a9dc5bcc360",
            "df677553c0804bd2ba935ebb428242ee",
            "724fffb4b19e43389513e17806678ada",
            "5bfb260383d244a8b8acbce5e07ee5c7",
            "3b271456e4a3448c96f9296185b06916",
            "507c2e1c90704b419104b2a5dba5c98b",
            "817d7d08eed545afaf88be361e62b1bc",
            "18be6a3d586e49e0b371f2470ae2ce16",
            "fc0d468c6f9b40578f93f56ae179f7b2",
            "5af229cee4e447588397c08fa5b2c527"
          ]
        },
        "id": "7rMGXz0T3Vgb",
        "outputId": "8fd27407-d45a-42dc-cc16-fe6eb923805f"
      },
      "source": [
        "# Data\n",
        "print('Data transformation')\n",
        "transform_train = transforms.Compose([\n",
        "    transforms.RandomCrop(32, padding=4),\n",
        "    transforms.RandomHorizontalFlip(),\n",
        "    transforms.ToTensor(),\n",
        "    transforms.Normalize((0.4914, 0.4822, 0.4465), (0.2023, 0.1994, 0.2010)),\n",
        "])\n",
        "\n",
        "transform_test = transforms.Compose([\n",
        "    transforms.ToTensor(),\n",
        "    transforms.Normalize((0.4914, 0.4822, 0.4465), (0.2023, 0.1994, 0.2010)),\n",
        "])\n",
        "\n",
        "trainset = torchvision.datasets.CIFAR10(\n",
        "    root='./data', train=True, download=True, transform=transform_train)\n",
        "trainloader = torch.utils.data.DataLoader(\n",
        "    trainset, batch_size=128, shuffle=True, num_workers=2)\n",
        "\n",
        "testset = torchvision.datasets.CIFAR10(\n",
        "    root='./data', train=False, download=True, transform=transform_test)\n",
        "testloader = torch.utils.data.DataLoader(\n",
        "    testset, batch_size=100, shuffle=False, num_workers=2)\n",
        "\n",
        "classes = ('plane', 'car', 'bird', 'cat', 'deer',\n",
        "           'dog', 'frog', 'horse', 'ship', 'truck')"
      ],
      "execution_count": null,
      "outputs": [
        {
          "output_type": "stream",
          "name": "stdout",
          "text": [
            "Data transformation\n",
            "Downloading https://www.cs.toronto.edu/~kriz/cifar-10-python.tar.gz to ./data/cifar-10-python.tar.gz\n"
          ]
        },
        {
          "output_type": "display_data",
          "data": {
            "application/vnd.jupyter.widget-view+json": {
              "model_id": "7c6408dcf48b4af2892a4c9d4b56fe14",
              "version_minor": 0,
              "version_major": 2
            },
            "text/plain": [
              "  0%|          | 0/170498071 [00:00<?, ?it/s]"
            ]
          },
          "metadata": {}
        },
        {
          "output_type": "stream",
          "name": "stdout",
          "text": [
            "Extracting ./data/cifar-10-python.tar.gz to ./data\n",
            "Files already downloaded and verified\n"
          ]
        }
      ]
    },
    {
      "cell_type": "code",
      "metadata": {
        "colab": {
          "base_uri": "https://localhost:8080/"
        },
        "id": "L7cw35wf5mrZ",
        "outputId": "9eec89f0-6503-4885-8ca6-f057ca8261f4"
      },
      "source": [
        "device = 'cuda' if torch.cuda.is_available() else 'cpu'\n",
        "print(device)"
      ],
      "execution_count": null,
      "outputs": [
        {
          "output_type": "stream",
          "name": "stdout",
          "text": [
            "cuda\n"
          ]
        }
      ]
    },
    {
      "cell_type": "markdown",
      "metadata": {
        "id": "tGP7z4YY4Iht"
      },
      "source": [
        "2. Model: Use the pretrained Resnet18 model to train your Convolutional Neural Network in\n",
        "the following ways. <br> <b>\n",
        "a) Train all the layers <br>\n",
        "b) Freeze the other layers and finetune only the last layer."
      ]
    },
    {
      "cell_type": "code",
      "metadata": {
        "colab": {
          "base_uri": "https://localhost:8080/",
          "height": 83,
          "referenced_widgets": [
            "b21cdd1d774b47fd9db3abfa16846b26",
            "f314e5f1a51d49f7bafa446c4888dd4f",
            "a9f4854aeb544594a81ce76c1f94e050",
            "78986925e4af41d99d8bc32cc36dae9c",
            "403bcd27db184742bb3157adaefb4b10",
            "bcbacf405484440cb6e0986c236df0e7",
            "1d420c72a8804cf2947554250362a371",
            "bfe4a54c27304376bd8da26fd838b538",
            "653e4c6af93b462ea202b9beaa4d8857",
            "e031bc45b2be46159df93b4b1636f29f",
            "476db1495e4b4ba8a3ac5968883ab4f1"
          ]
        },
        "id": "ZcDVvhO74AMe",
        "outputId": "fa58a846-e41d-4d1c-f44d-9be30131d9b9"
      },
      "source": [
        "#Model\n",
        "print('Model creation')\n",
        "\n",
        "net1_SGD = torchvision.models.resnet18(pretrained = True)\n",
        "net1_Adam = torchvision.models.resnet18(pretrained = True)\n",
        "net2_SGD = torchvision.models.resnet18(pretrained = True)\n",
        "net2_Adam = torchvision.models.resnet18(pretrained = True)\n",
        "\n",
        "for param in net2_SGD.parameters():\n",
        "    param.requires_grad = False\n",
        "    \n",
        "for param in net2_Adam.parameters():\n",
        "    param.requires_grad = False\n",
        "\n",
        "num_features = net1_SGD.fc.in_features\n",
        "net1_SGD.fc = nn.Linear(num_features,10)\n",
        "net1_Adam.fc = nn.Linear(num_features,10)\n",
        "net2_SGD.fc = nn.Linear(num_features,10)\n",
        "net2_Adam.fc = nn.Linear(num_features,10)\n",
        "#### net = Invoke pretrained ResNet18 model #######\n",
        "\n",
        "net1_SGD = net1_SGD.to(device)\n",
        "net1_Adam = net1_Adam.to(device)\n",
        "net2_SGD = net2_SGD.to(device)\n",
        "net2_Adam = net2_Adam.to(device)"
      ],
      "execution_count": null,
      "outputs": [
        {
          "output_type": "stream",
          "name": "stdout",
          "text": [
            "Model creation\n"
          ]
        },
        {
          "output_type": "stream",
          "name": "stderr",
          "text": [
            "Downloading: \"https://download.pytorch.org/models/resnet18-f37072fd.pth\" to /root/.cache/torch/hub/checkpoints/resnet18-f37072fd.pth\n"
          ]
        },
        {
          "output_type": "display_data",
          "data": {
            "application/vnd.jupyter.widget-view+json": {
              "model_id": "b21cdd1d774b47fd9db3abfa16846b26",
              "version_minor": 0,
              "version_major": 2
            },
            "text/plain": [
              "  0%|          | 0.00/44.7M [00:00<?, ?B/s]"
            ]
          },
          "metadata": {}
        }
      ]
    },
    {
      "cell_type": "markdown",
      "metadata": {
        "id": "ochn-jFN6goP"
      },
      "source": [
        "3. Training Module: Implement a mini-batch SGD using main.py to train the CNN in both the\n",
        "ways described above. Use the following configurations while training: <br>\n",
        "● Use SGD optimizer with learning rate = 0.001, momentum = 0.9 and cross-entropy as\n",
        "the loss function.<br>\n",
        "● Use Adam optimizer with learning rate = 0.01 and cross-entropy as the loss function.\n",
        "You can use early stopping too if loss converges beforehand."
      ]
    },
    {
      "cell_type": "code",
      "metadata": {
        "id": "7lOcxXXt4uPh"
      },
      "source": [
        "optimizer1_SGD = optim.SGD(net1_SGD.parameters(),lr = 0.001,momentum=0.9)\n",
        "optimizer1_Adam = optim.Adam(net1_Adam.parameters(),lr = 0.01)\n",
        "optimizer2_SGD = optim.SGD(net2_SGD.fc.parameters(),lr = 0.001,momentum=0.9)\n",
        "optimizer2_Adam = optim.Adam(net2_Adam.fc.parameters(),lr = 0.01)"
      ],
      "execution_count": null,
      "outputs": []
    },
    {
      "cell_type": "code",
      "metadata": {
        "id": "teaKYOyW6pju"
      },
      "source": [
        "criterion = nn.CrossEntropyLoss()"
      ],
      "execution_count": null,
      "outputs": []
    },
    {
      "cell_type": "code",
      "metadata": {
        "id": "yzpQzAcu6se5"
      },
      "source": [
        "# Training\n",
        "def train(model , optimizer):\n",
        "    print('\\nEpoch: %d' % epoch)\n",
        "    model.train()\n",
        "    batch_loss = 0.0            \n",
        "    correct = 0      \n",
        "    \n",
        "    for batch_idx, (inputs, targets) in enumerate(trainloader):\n",
        "        inputs, targets = inputs.to(device), targets.to(device)\n",
        "        # Write your code here\n",
        "        optimizer.zero_grad()\n",
        "        outputs = model(inputs)\n",
        "        loss = criterion(outputs,targets)\n",
        "        loss.backward()\n",
        "        optimizer.step()\n",
        "        batch_loss += loss.item()\n",
        "        _,pred = torch.max(outputs,dim = 1)\n",
        "        correct += torch.sum(pred == targets).item()\n",
        "    loss = batch_loss/len(trainloader.dataset)\n",
        "    accuracy = 100*correct/len(trainloader.dataset)\n",
        "    print(\"Training Loss : \", loss, \", and Accuracy = \", accuracy)\n",
        "    return (loss, accuracy)"
      ],
      "execution_count": null,
      "outputs": []
    },
    {
      "cell_type": "code",
      "metadata": {
        "id": "DSCFnem97hBX"
      },
      "source": [
        "def test(model,early_stop,model_name,optim_name,no_improve = 10):\n",
        "    global best_acc\n",
        "    global best_loss\n",
        "    model.eval()\n",
        "\n",
        "    batch_loss = 0            \n",
        "    correct_t = 0             \n",
        "    prediction_samples = []   \n",
        "    predictions = []          \n",
        "    targetlist = []  \n",
        "\n",
        "    with torch.no_grad():\n",
        "        for batch_idx, (inputs, targets) in enumerate(testloader):\n",
        "            inputs, targets = inputs.to(device), targets.to(device)\n",
        "            outputs = model(inputs)\n",
        "            batch_loss += criterion(outputs, targets).item()\n",
        "            _,pred_t = torch.max(outputs, dim = 1)\n",
        "            correct_t += torch.sum(pred_t == targets).item()\n",
        "            predictions.extend(pred_t)\n",
        "            targetlist.extend(targets)\n",
        "            prediction_samples.append(wandb.Image(inputs[0],caption = \"Prediction: {} Truth: {}\".format(pred_t[0].item(),targets[0])))\n",
        "        loss = batch_loss/len(testloader.dataset)\n",
        "        curr_acc = 100*correct_t/len(testloader.dataset)\n",
        "        print(\"Testing Loss : \", loss, \" and Test Accuracy = \", curr_acc)\n",
        "\n",
        "        # Save checkpoint for the model which yields best accuracy\n",
        "        if loss < best_loss:\n",
        "          predictions = [x.item() for x in predictions]\n",
        "          targetlist = [x.item() for x in targetlist]\n",
        "            \n",
        "          early_stop[1] = 0     \n",
        "          best_loss = loss   \n",
        "          torch.save({\n",
        "          'model_state_dict': model.state_dict(),\n",
        "          'Testing Loss': loss,\n",
        "          'Testing Accuracy': curr_acc,\n",
        "          'Predictions': predictions,\n",
        "          'Target List': targetlist\n",
        "          },'resnet18_'+ model_name + '_' + optim_name + '.pth')\n",
        "        else :\n",
        "          early_stop[1] += 1\n",
        "        if early_stop[1] > no_improve:\n",
        "          early_stop[0] = True\n",
        "        return (loss, curr_acc, prediction_samples)"
      ],
      "execution_count": null,
      "outputs": []
    },
    {
      "cell_type": "markdown",
      "metadata": {
        "id": "z0LHQTH1QCw7"
      },
      "source": [
        "First, (a) Training all the layers without freezing, and saving the best model."
      ]
    },
    {
      "cell_type": "code",
      "metadata": {
        "colab": {
          "base_uri": "https://localhost:8080/",
          "height": 1000
        },
        "id": "Ps7mhGR6OZW5",
        "outputId": "20cd54c6-356c-4407-ce56-e4210a5f9c15"
      },
      "source": [
        "run = wandb.init(name = \"1a\",project = \"Asg1\",resume = True)\n",
        "wandb.watch(net1_SGD, log = \"all\")\n",
        "config = wandb.config\n",
        "config.batch_size = 128\n",
        "config.test_batch_size = 100\n",
        "config.lr = 0.001\n",
        "config.momentum = 0.9\n",
        "\n",
        "early_stop = [False,0]\n",
        "\n",
        "global best_loss\n",
        "best_loss = float('inf')\n",
        "\n",
        "for epoch in range(200):\n",
        "  # print(epoch)\n",
        "  train_loss,train_acc = train(net1_SGD,optimizer1_SGD)\n",
        "  test_loss,test_acc,samples = test(net1_SGD,early_stop,\"Unfreezed\",\"SGD\")\n",
        "  wandb.log({\n",
        "      \"Training Loss\":train_loss,\n",
        "      \"Training Accuracy\":train_acc,\n",
        "      \"Testing Loss\":test_loss,\n",
        "      \"Testing Accuracy\": test_acc,\n",
        "      \"Prediction Samples\":samples\n",
        "  })\n",
        "\n",
        "  if early_stop[0]:\n",
        "    break\n"
      ],
      "execution_count": null,
      "outputs": [
        {
          "output_type": "stream",
          "name": "stderr",
          "text": [
            "\u001b[34m\u001b[1mwandb\u001b[0m: Currently logged in as: \u001b[33maltafahmad\u001b[0m (use `wandb login --relogin` to force relogin)\n"
          ]
        },
        {
          "output_type": "display_data",
          "data": {
            "text/html": [
              "\n",
              "                Tracking run with wandb version 0.12.2<br/>\n",
              "                Syncing run <strong style=\"color:#cdcd00\">1a</strong> to <a href=\"https://wandb.ai\" target=\"_blank\">Weights & Biases</a> <a href=\"https://docs.wandb.com/integrations/jupyter.html\" target=\"_blank\">(Documentation)</a>.<br/>\n",
              "                Project page: <a href=\"https://wandb.ai/altafahmad/Asg1\" target=\"_blank\">https://wandb.ai/altafahmad/Asg1</a><br/>\n",
              "                Run page: <a href=\"https://wandb.ai/altafahmad/Asg1/runs/2pko7sye\" target=\"_blank\">https://wandb.ai/altafahmad/Asg1/runs/2pko7sye</a><br/>\n",
              "                Run data is saved locally in <code>/content/wandb/run-20210919_124522-2pko7sye</code><br/><br/>\n",
              "            "
            ],
            "text/plain": [
              "<IPython.core.display.HTML object>"
            ]
          },
          "metadata": {}
        },
        {
          "output_type": "stream",
          "name": "stdout",
          "text": [
            "\n",
            "Epoch: 0\n"
          ]
        },
        {
          "output_type": "stream",
          "name": "stderr",
          "text": [
            "/usr/local/lib/python3.7/dist-packages/torch/nn/functional.py:718: UserWarning: Named tensors and all their associated APIs are an experimental feature and subject to change. Please do not use them for anything important until they are released as stable. (Triggered internally at  /pytorch/c10/core/TensorImpl.h:1156.)\n",
            "  return torch.max_pool2d(input, kernel_size, stride, padding, dilation, ceil_mode)\n"
          ]
        },
        {
          "output_type": "stream",
          "name": "stdout",
          "text": [
            "Training Loss :  0.010347825261354446 , and Accuracy =  53.584\n",
            "Testing Loss :  0.00981736345887184  and Test Accuracy =  65.99\n",
            "\n",
            "Epoch: 1\n",
            "Training Loss :  0.007047839354276657 , and Accuracy =  68.406\n",
            "Testing Loss :  0.008007880449295044  and Test Accuracy =  71.99\n",
            "\n",
            "Epoch: 2\n",
            "Training Loss :  0.006064100517034531 , and Accuracy =  72.92\n",
            "Testing Loss :  0.007125392001867294  and Test Accuracy =  75.41\n",
            "\n",
            "Epoch: 3\n",
            "Training Loss :  0.005439881364107132 , and Accuracy =  75.788\n",
            "Testing Loss :  0.006603970611095428  and Test Accuracy =  76.92\n",
            "\n",
            "Epoch: 4\n",
            "Training Loss :  0.005032979090809822 , and Accuracy =  77.606\n",
            "Testing Loss :  0.006257562786340713  and Test Accuracy =  78.3\n",
            "\n",
            "Epoch: 5\n",
            "Training Loss :  0.00470113401055336 , and Accuracy =  79.098\n",
            "Testing Loss :  0.005985084229707718  and Test Accuracy =  79.41\n",
            "\n",
            "Epoch: 6\n",
            "Training Loss :  0.0044409771150350575 , and Accuracy =  80.098\n",
            "Testing Loss :  0.005817702710628509  and Test Accuracy =  79.84\n",
            "\n",
            "Epoch: 7\n",
            "Training Loss :  0.004228492838144303 , and Accuracy =  80.982\n",
            "Testing Loss :  0.005668650278449059  and Test Accuracy =  80.52\n",
            "\n",
            "Epoch: 8\n",
            "Training Loss :  0.00399018324971199 , and Accuracy =  82.096\n",
            "Testing Loss :  0.0055920630067586895  and Test Accuracy =  81.05\n",
            "\n",
            "Epoch: 9\n",
            "Training Loss :  0.0038237341165542602 , and Accuracy =  82.768\n",
            "Testing Loss :  0.0054420070827007295  and Test Accuracy =  81.4\n",
            "\n",
            "Epoch: 10\n",
            "Training Loss :  0.0036485319566726686 , and Accuracy =  83.662\n",
            "Testing Loss :  0.0053289890885353085  and Test Accuracy =  81.95\n",
            "\n",
            "Epoch: 11\n",
            "Training Loss :  0.0035329068440198897 , and Accuracy =  84.042\n",
            "Testing Loss :  0.00537027026116848  and Test Accuracy =  81.76\n",
            "\n",
            "Epoch: 12\n",
            "Training Loss :  0.00333701928794384 , and Accuracy =  84.99\n",
            "Testing Loss :  0.005310397854447365  and Test Accuracy =  82.08\n",
            "\n",
            "Epoch: 13\n",
            "Training Loss :  0.0032308967435359954 , and Accuracy =  85.472\n",
            "Testing Loss :  0.005261960229277611  and Test Accuracy =  82.43\n",
            "\n",
            "Epoch: 14\n",
            "Training Loss :  0.003107062411010265 , and Accuracy =  86.006\n",
            "Testing Loss :  0.005275499610602856  and Test Accuracy =  82.26\n",
            "\n",
            "Epoch: 15\n",
            "Training Loss :  0.0030149815106391906 , and Accuracy =  86.26\n",
            "Testing Loss :  0.005311120976507664  and Test Accuracy =  82.39\n",
            "\n",
            "Epoch: 16\n",
            "Training Loss :  0.002867771815955639 , and Accuracy =  86.962\n",
            "Testing Loss :  0.0052823784306645395  and Test Accuracy =  82.6\n",
            "\n",
            "Epoch: 17\n",
            "Training Loss :  0.002803223126530647 , and Accuracy =  87.03\n",
            "Testing Loss :  0.005173351043462753  and Test Accuracy =  82.93\n",
            "\n",
            "Epoch: 18\n",
            "Training Loss :  0.0027181503590941428 , and Accuracy =  87.758\n",
            "Testing Loss :  0.005155093449354171  and Test Accuracy =  83.07\n",
            "\n",
            "Epoch: 19\n",
            "Training Loss :  0.002586879784166813 , and Accuracy =  88.17\n",
            "Testing Loss :  0.005248303148150444  and Test Accuracy =  82.84\n",
            "\n",
            "Epoch: 20\n",
            "Training Loss :  0.0024805959448218344 , and Accuracy =  88.664\n",
            "Testing Loss :  0.005255968087911606  and Test Accuracy =  83.02\n",
            "\n",
            "Epoch: 21\n",
            "Training Loss :  0.0023856662210822105 , and Accuracy =  89.038\n",
            "Testing Loss :  0.005192021843791008  and Test Accuracy =  83.12\n",
            "\n",
            "Epoch: 22\n",
            "Training Loss :  0.0022910371604561806 , and Accuracy =  89.57\n",
            "Testing Loss :  0.005275347231328487  and Test Accuracy =  83.36\n",
            "\n",
            "Epoch: 23\n",
            "Training Loss :  0.0022245915764570238 , and Accuracy =  89.944\n",
            "Testing Loss :  0.005383099460601806  and Test Accuracy =  83.05\n",
            "\n",
            "Epoch: 24\n",
            "Training Loss :  0.00215871913254261 , and Accuracy =  90.162\n",
            "Testing Loss :  0.005309666907787323  and Test Accuracy =  83.54\n",
            "\n",
            "Epoch: 25\n",
            "Training Loss :  0.0020785586774349214 , and Accuracy =  90.472\n",
            "Testing Loss :  0.005340836733579635  and Test Accuracy =  83.6\n",
            "\n",
            "Epoch: 26\n",
            "Training Loss :  0.0020120965558290483 , and Accuracy =  90.78\n",
            "Testing Loss :  0.005425206875801086  and Test Accuracy =  83.78\n",
            "\n",
            "Epoch: 27\n",
            "Training Loss :  0.0018998598212003708 , and Accuracy =  91.31\n",
            "Testing Loss :  0.0054842243745923044  and Test Accuracy =  83.51\n",
            "\n",
            "Epoch: 28\n",
            "Training Loss :  0.0018540712963044644 , and Accuracy =  91.522\n",
            "Testing Loss :  0.005487742540240288  and Test Accuracy =  83.6\n",
            "\n",
            "Epoch: 29\n",
            "Training Loss :  0.001788771559149027 , and Accuracy =  91.772\n",
            "Testing Loss :  0.0055578443229198455  and Test Accuracy =  83.78\n"
          ]
        },
        {
          "output_type": "error",
          "ename": "ValueError",
          "evalue": "ignored",
          "traceback": [
            "\u001b[0;31m---------------------------------------------------------------------------\u001b[0m",
            "\u001b[0;31mValueError\u001b[0m                                Traceback (most recent call last)",
            "\u001b[0;32m<ipython-input-11-397b66b719ae>\u001b[0m in \u001b[0;36m<module>\u001b[0;34m()\u001b[0m\n\u001b[1;32m     27\u001b[0m     \u001b[0;32mbreak\u001b[0m\u001b[0;34m\u001b[0m\u001b[0;34m\u001b[0m\u001b[0m\n\u001b[1;32m     28\u001b[0m \u001b[0mresnet18_Unfreezed_SGD\u001b[0m \u001b[0;34m=\u001b[0m \u001b[0mwandb\u001b[0m\u001b[0;34m.\u001b[0m\u001b[0mArtifact\u001b[0m\u001b[0;34m(\u001b[0m\u001b[0;34m'resnet18_Unfrozen_SGD'\u001b[0m\u001b[0;34m,\u001b[0m \u001b[0mtype\u001b[0m\u001b[0;34m=\u001b[0m\u001b[0;34m'model'\u001b[0m\u001b[0;34m)\u001b[0m\u001b[0;34m\u001b[0m\u001b[0;34m\u001b[0m\u001b[0m\n\u001b[0;32m---> 29\u001b[0;31m \u001b[0mresnet18_Unfreezed_SGD\u001b[0m\u001b[0;34m.\u001b[0m\u001b[0madd_file\u001b[0m\u001b[0;34m(\u001b[0m\u001b[0;34m'resnet18_Unfrozen_SGD.pth'\u001b[0m\u001b[0;34m)\u001b[0m\u001b[0;34m\u001b[0m\u001b[0;34m\u001b[0m\u001b[0m\n\u001b[0m\u001b[1;32m     30\u001b[0m \u001b[0mrun\u001b[0m\u001b[0;34m.\u001b[0m\u001b[0mlog_artifact\u001b[0m\u001b[0;34m(\u001b[0m\u001b[0mresnet18_Unfreezed_SGD\u001b[0m\u001b[0;34m)\u001b[0m\u001b[0;34m\u001b[0m\u001b[0;34m\u001b[0m\u001b[0m\n\u001b[1;32m     31\u001b[0m \u001b[0mbest_resnet18_Unfreezed_SGD\u001b[0m \u001b[0;34m=\u001b[0m \u001b[0mtorch\u001b[0m\u001b[0;34m.\u001b[0m\u001b[0mload\u001b[0m\u001b[0;34m(\u001b[0m\u001b[0;34m'resnet18_Unfrozen_SGD.pth'\u001b[0m\u001b[0;34m)\u001b[0m\u001b[0;34m\u001b[0m\u001b[0;34m\u001b[0m\u001b[0m\n",
            "\u001b[0;32m/usr/local/lib/python3.7/dist-packages/wandb/sdk/wandb_artifacts.py\u001b[0m in \u001b[0;36madd_file\u001b[0;34m(self, local_path, name, is_tmp)\u001b[0m\n\u001b[1;32m    369\u001b[0m         \u001b[0mself\u001b[0m\u001b[0;34m.\u001b[0m\u001b[0m_ensure_can_add\u001b[0m\u001b[0;34m(\u001b[0m\u001b[0;34m)\u001b[0m\u001b[0;34m\u001b[0m\u001b[0;34m\u001b[0m\u001b[0m\n\u001b[1;32m    370\u001b[0m         \u001b[0;32mif\u001b[0m \u001b[0;32mnot\u001b[0m \u001b[0mos\u001b[0m\u001b[0;34m.\u001b[0m\u001b[0mpath\u001b[0m\u001b[0;34m.\u001b[0m\u001b[0misfile\u001b[0m\u001b[0;34m(\u001b[0m\u001b[0mlocal_path\u001b[0m\u001b[0;34m)\u001b[0m\u001b[0;34m:\u001b[0m\u001b[0;34m\u001b[0m\u001b[0;34m\u001b[0m\u001b[0m\n\u001b[0;32m--> 371\u001b[0;31m             \u001b[0;32mraise\u001b[0m \u001b[0mValueError\u001b[0m\u001b[0;34m(\u001b[0m\u001b[0;34m\"Path is not a file: %s\"\u001b[0m \u001b[0;34m%\u001b[0m \u001b[0mlocal_path\u001b[0m\u001b[0;34m)\u001b[0m\u001b[0;34m\u001b[0m\u001b[0;34m\u001b[0m\u001b[0m\n\u001b[0m\u001b[1;32m    372\u001b[0m \u001b[0;34m\u001b[0m\u001b[0m\n\u001b[1;32m    373\u001b[0m         \u001b[0mname\u001b[0m \u001b[0;34m=\u001b[0m \u001b[0mname\u001b[0m \u001b[0;32mor\u001b[0m \u001b[0mos\u001b[0m\u001b[0;34m.\u001b[0m\u001b[0mpath\u001b[0m\u001b[0;34m.\u001b[0m\u001b[0mbasename\u001b[0m\u001b[0;34m(\u001b[0m\u001b[0mlocal_path\u001b[0m\u001b[0;34m)\u001b[0m\u001b[0;34m\u001b[0m\u001b[0;34m\u001b[0m\u001b[0m\n",
            "\u001b[0;31mValueError\u001b[0m: Path is not a file: resnet18_Unfrozen_SGD.pth"
          ]
        }
      ]
    },
    {
      "cell_type": "code",
      "metadata": {
        "colab": {
          "base_uri": "https://localhost:8080/",
          "height": 474,
          "referenced_widgets": [
            "d73fd8831a274e0d9398b71b3ede13fc",
            "79a16379470346eeb81ff87c06f555f7",
            "d10652370a66499e88d48000e32c4c74",
            "1aebc204e01a4a3fb97f5c93761d208e",
            "f509866c43df45ef81408c2bd09854c9",
            "bc8dfd1b7ab3460d842ef94a69328043",
            "a1b0f971efc141128e3d4dd5f72ca58a",
            "6b84d1f3c5d247ddbcd0fa39cae11774"
          ]
        },
        "id": "a2GarSI8YiOp",
        "outputId": "6c2beeb3-3d02-4843-a13d-b153fb4497eb"
      },
      "source": [
        "resnet18_Unfreezed_SGD = wandb.Artifact('resnet18_Unfreezed_SGD', type='model')\n",
        "resnet18_Unfreezed_SGD.add_file('resnet18_Unfreezed_SGD.pth')\n",
        "run.log_artifact(resnet18_Unfreezed_SGD)\n",
        "best_resnet18_Unfreezed_SGD = torch.load('resnet18_Unfreezed_SGD.pth')\n",
        "\n",
        "wandb.log({\n",
        "    \"resnet18_Unfrozen_SGD_Confusion_Matrix\": wandb.plot.confusion_matrix(\n",
        "    preds = best_resnet18_Unfreezed_SGD['Predictions'],\n",
        "    y_true = best_resnet18_Unfreezed_SGD['Target List'],\n",
        "    class_names = classes) \n",
        "})\n",
        "config.best_test_accuracy = best_resnet18_Unfreezed_SGD['Testing Accuracy']\n",
        "wandb.finish()\n",
        "\n",
        "print(\"Best Model accuracy for Resnet-18 with SDM Optimization\" , best_resnet18_Unfreezed_SGD['Testing Accuracy'])"
      ],
      "execution_count": null,
      "outputs": [
        {
          "output_type": "display_data",
          "data": {
            "text/html": [
              "<br/>Waiting for W&B process to finish, PID 170<br/>Program ended successfully."
            ],
            "text/plain": [
              "<IPython.core.display.HTML object>"
            ]
          },
          "metadata": {}
        },
        {
          "output_type": "display_data",
          "data": {
            "application/vnd.jupyter.widget-view+json": {
              "model_id": "d73fd8831a274e0d9398b71b3ede13fc",
              "version_minor": 0,
              "version_major": 2
            },
            "text/plain": [
              "VBox(children=(Label(value=' 49.37MB of 49.38MB uploaded (0.00MB deduped)\\r'), FloatProgress(value=0.999953006…"
            ]
          },
          "metadata": {}
        },
        {
          "output_type": "display_data",
          "data": {
            "text/html": [
              "Find user logs for this run at: <code>/content/wandb/run-20210919_124522-2pko7sye/logs/debug.log</code>"
            ],
            "text/plain": [
              "<IPython.core.display.HTML object>"
            ]
          },
          "metadata": {}
        },
        {
          "output_type": "display_data",
          "data": {
            "text/html": [
              "Find internal logs for this run at: <code>/content/wandb/run-20210919_124522-2pko7sye/logs/debug-internal.log</code>"
            ],
            "text/plain": [
              "<IPython.core.display.HTML object>"
            ]
          },
          "metadata": {}
        },
        {
          "output_type": "display_data",
          "data": {
            "text/html": [
              "<h3>Run summary:</h3><br/><style>\n",
              "    table.wandb td:nth-child(1) { padding: 0 10px; text-align: right }\n",
              "    </style><table class=\"wandb\">\n",
              "<tr><td>Testing Accuracy</td><td>83.78</td></tr><tr><td>Testing Loss</td><td>0.00556</td></tr><tr><td>Training Accuracy</td><td>91.772</td></tr><tr><td>Training Loss</td><td>0.00179</td></tr></table>"
            ],
            "text/plain": [
              "<IPython.core.display.HTML object>"
            ]
          },
          "metadata": {}
        },
        {
          "output_type": "display_data",
          "data": {
            "text/html": [
              "<h3>Run history:</h3><br/><style>\n",
              "    table.wandb td:nth-child(1) { padding: 0 10px; text-align: right }\n",
              "    </style><table class=\"wandb\">\n",
              "<tr><td>Testing Accuracy</td><td>▁▃▅▅▆▆▆▇▇▇▇▇▇▇▇▇██████████████</td></tr><tr><td>Testing Loss</td><td>█▅▄▃▃▂▂▂▂▁▁▁▁▁▁▁▁▁▁▁▁▁▁▁▁▁▁▁▁▂</td></tr><tr><td>Training Accuracy</td><td>▁▄▅▅▅▆▆▆▆▆▇▇▇▇▇▇▇▇▇▇▇▇████████</td></tr><tr><td>Training Loss</td><td>█▅▄▄▄▃▃▃▃▃▃▂▂▂▂▂▂▂▂▂▂▁▁▁▁▁▁▁▁▁</td></tr></table><br/>"
            ],
            "text/plain": [
              "<IPython.core.display.HTML object>"
            ]
          },
          "metadata": {}
        },
        {
          "output_type": "display_data",
          "data": {
            "text/html": [
              "Synced 5 W&B file(s), 3001 media file(s), 2 artifact file(s) and 0 other file(s)"
            ],
            "text/plain": [
              "<IPython.core.display.HTML object>"
            ]
          },
          "metadata": {}
        },
        {
          "output_type": "display_data",
          "data": {
            "text/html": [
              "\n",
              "                    <br/>Synced <strong style=\"color:#cdcd00\">1a</strong>: <a href=\"https://wandb.ai/altafahmad/Asg1/runs/2pko7sye\" target=\"_blank\">https://wandb.ai/altafahmad/Asg1/runs/2pko7sye</a><br/>\n",
              "                "
            ],
            "text/plain": [
              "<IPython.core.display.HTML object>"
            ]
          },
          "metadata": {}
        },
        {
          "output_type": "stream",
          "name": "stdout",
          "text": [
            "Best Model accuracy for Resnet-18 with SDM Optimization 83.07\n"
          ]
        }
      ]
    },
    {
      "cell_type": "markdown",
      "metadata": {
        "id": "2cDDc0tzlpkW"
      },
      "source": [
        "(b) Training all the layers without freezing, and saving the best model. Using Adam this time"
      ]
    },
    {
      "cell_type": "code",
      "metadata": {
        "colab": {
          "base_uri": "https://localhost:8080/",
          "height": 1000
        },
        "id": "dwc-EV1Yb-yo",
        "outputId": "760a6996-674e-44f2-fdcf-09e5cc0e8657"
      },
      "source": [
        "run = wandb.init(name = \"1b\",project = \"Asg1\")\n",
        "wandb.watch(net1_SGD, log = \"all\")\n",
        "config = wandb.config\n",
        "config.batch_size = 128\n",
        "config.test_batch_size = 100\n",
        "config.lr = 0.01\n",
        "\n",
        "\n",
        "early_stop = [False,0]\n",
        "\n",
        "global best_loss\n",
        "best_loss = float('inf')\n",
        "\n",
        "for epoch in range(200):\n",
        "  # print(epoch)\n",
        "  train_loss,train_acc = train(net1_Adam,optimizer1_Adam)\n",
        "  test_loss,test_acc,samples = test(net1_Adam,early_stop,\"Unfreezed\",\"Adam\")\n",
        "  wandb.log({\n",
        "      \"Training Loss\":train_loss,\n",
        "      \"Training Accuracy\":train_acc,\n",
        "      \"Testing Loss\":test_loss,\n",
        "      \"Testing Accuracy\": test_acc,\n",
        "      \"Prediction Samples\":samples\n",
        "  })\n",
        "\n",
        "  if early_stop[0]:\n",
        "    break\n"
      ],
      "execution_count": null,
      "outputs": [
        {
          "output_type": "display_data",
          "data": {
            "text/html": [
              "\n",
              "                Tracking run with wandb version 0.12.2<br/>\n",
              "                Syncing run <strong style=\"color:#cdcd00\">1b</strong> to <a href=\"https://wandb.ai\" target=\"_blank\">Weights & Biases</a> <a href=\"https://docs.wandb.com/integrations/jupyter.html\" target=\"_blank\">(Documentation)</a>.<br/>\n",
              "                Project page: <a href=\"https://wandb.ai/altafahmad/Asg1\" target=\"_blank\">https://wandb.ai/altafahmad/Asg1</a><br/>\n",
              "                Run page: <a href=\"https://wandb.ai/altafahmad/Asg1/runs/kznshqc4\" target=\"_blank\">https://wandb.ai/altafahmad/Asg1/runs/kznshqc4</a><br/>\n",
              "                Run data is saved locally in <code>/content/wandb/run-20210919_140944-kznshqc4</code><br/><br/>\n",
              "            "
            ],
            "text/plain": [
              "<IPython.core.display.HTML object>"
            ]
          },
          "metadata": {}
        },
        {
          "output_type": "stream",
          "name": "stdout",
          "text": [
            "\n",
            "Epoch: 0\n",
            "Training Loss :  0.017420527844429014 , and Accuracy =  20.69\n",
            "Testing Loss :  0.018313030087947844  and Test Accuracy =  33.1\n",
            "\n",
            "Epoch: 1\n",
            "Training Loss :  0.013091442801952362 , and Accuracy =  38.182\n",
            "Testing Loss :  0.015738428592681885  and Test Accuracy =  44.12\n",
            "\n",
            "Epoch: 2\n",
            "Training Loss :  0.011405647790431976 , and Accuracy =  46.658\n",
            "Testing Loss :  0.013502161979675293  and Test Accuracy =  51.56\n",
            "\n",
            "Epoch: 3\n",
            "Training Loss :  0.009872796972990035 , and Accuracy =  54.378\n",
            "Testing Loss :  0.012820497477054596  and Test Accuracy =  56.01\n",
            "\n",
            "Epoch: 4\n",
            "Training Loss :  0.009000726737976075 , and Accuracy =  59.07\n",
            "Testing Loss :  0.009946665543317796  and Test Accuracy =  65.13\n",
            "\n",
            "Epoch: 5\n",
            "Training Loss :  0.00803940614104271 , and Accuracy =  63.398\n",
            "Testing Loss :  0.009429131251573563  and Test Accuracy =  67.01\n",
            "\n",
            "Epoch: 6\n",
            "Training Loss :  0.007528547135591507 , and Accuracy =  66.04\n",
            "Testing Loss :  0.009522942471504212  and Test Accuracy =  66.45\n",
            "\n",
            "Epoch: 7\n",
            "Training Loss :  0.007099994568824768 , and Accuracy =  67.8\n",
            "Testing Loss :  0.008624452310800553  and Test Accuracy =  70.9\n",
            "\n",
            "Epoch: 8\n",
            "Training Loss :  0.0067417720079422 , and Accuracy =  69.762\n",
            "Testing Loss :  0.008804666471481324  and Test Accuracy =  69.72\n",
            "\n",
            "Epoch: 9\n",
            "Training Loss :  0.006332874641418457 , and Accuracy =  71.692\n",
            "Testing Loss :  0.008287118887901306  and Test Accuracy =  71.68\n",
            "\n",
            "Epoch: 10\n",
            "Training Loss :  0.006096355955600739 , and Accuracy =  72.544\n",
            "Testing Loss :  0.007371169164776802  and Test Accuracy =  74.6\n",
            "\n",
            "Epoch: 11\n",
            "Training Loss :  0.00580693522810936 , and Accuracy =  74.044\n",
            "Testing Loss :  0.008064318841695785  and Test Accuracy =  72.9\n",
            "\n",
            "Epoch: 12\n",
            "Training Loss :  0.00560220398068428 , and Accuracy =  74.942\n",
            "Testing Loss :  0.0075336070448160175  and Test Accuracy =  74.26\n",
            "\n",
            "Epoch: 13\n",
            "Training Loss :  0.005405941920876503 , and Accuracy =  75.92\n",
            "Testing Loss :  0.006813265907764435  and Test Accuracy =  76.81\n",
            "\n",
            "Epoch: 14\n",
            "Training Loss :  0.005221430110931397 , and Accuracy =  76.688\n",
            "Testing Loss :  0.008354950910806656  and Test Accuracy =  72.57\n",
            "\n",
            "Epoch: 15\n",
            "Training Loss :  0.005065573592185974 , and Accuracy =  77.45\n",
            "Testing Loss :  0.006567915457487106  and Test Accuracy =  77.67\n",
            "\n",
            "Epoch: 16\n",
            "Training Loss :  0.00489569856107235 , and Accuracy =  78.388\n",
            "Testing Loss :  0.006283558696508407  and Test Accuracy =  78.42\n",
            "\n",
            "Epoch: 17\n",
            "Training Loss :  0.004690457798242569 , and Accuracy =  79.182\n",
            "Testing Loss :  0.006619432038068771  and Test Accuracy =  77.73\n",
            "\n",
            "Epoch: 18\n",
            "Training Loss :  0.004586172715425492 , and Accuracy =  79.772\n",
            "Testing Loss :  0.006082630881667137  and Test Accuracy =  79.04\n",
            "\n",
            "Epoch: 19\n",
            "Training Loss :  0.004453625163435936 , and Accuracy =  80.232\n",
            "Testing Loss :  0.00627230783700943  and Test Accuracy =  79.38\n",
            "\n",
            "Epoch: 20\n",
            "Training Loss :  0.004365528198480606 , and Accuracy =  80.796\n",
            "Testing Loss :  0.006337121629714966  and Test Accuracy =  78.86\n",
            "\n",
            "Epoch: 21\n",
            "Training Loss :  0.004234216031432152 , and Accuracy =  81.266\n",
            "Testing Loss :  0.006289740425348282  and Test Accuracy =  79.11\n",
            "\n",
            "Epoch: 22\n",
            "Training Loss :  0.004101781655550003 , and Accuracy =  81.764\n",
            "Testing Loss :  0.005705389049649239  and Test Accuracy =  80.87\n",
            "\n",
            "Epoch: 23\n",
            "Training Loss :  0.004056536248922348 , and Accuracy =  82.094\n",
            "Testing Loss :  0.0057028905421495435  and Test Accuracy =  80.23\n",
            "\n",
            "Epoch: 24\n",
            "Training Loss :  0.0040540891498327255 , and Accuracy =  82.156\n",
            "Testing Loss :  0.008370048543810845  and Test Accuracy =  72.04\n",
            "\n",
            "Epoch: 25\n",
            "Training Loss :  0.0040547278809547425 , and Accuracy =  81.962\n",
            "Testing Loss :  0.005774579676985741  and Test Accuracy =  80.71\n",
            "\n",
            "Epoch: 26\n",
            "Training Loss :  0.003730070173740387 , and Accuracy =  83.374\n",
            "Testing Loss :  0.005548030757904053  and Test Accuracy =  81.52\n",
            "\n",
            "Epoch: 27\n",
            "Training Loss :  0.003690776429474354 , and Accuracy =  83.64\n",
            "Testing Loss :  0.005994925561547279  and Test Accuracy =  79.87\n",
            "\n",
            "Epoch: 28\n",
            "Training Loss :  0.0036489386552572252 , and Accuracy =  83.872\n",
            "Testing Loss :  0.005896735659241676  and Test Accuracy =  80.39\n",
            "\n",
            "Epoch: 29\n",
            "Training Loss :  0.0035836600816249848 , and Accuracy =  84.068\n",
            "Testing Loss :  0.005528045344352722  and Test Accuracy =  81.86\n",
            "\n",
            "Epoch: 30\n",
            "Training Loss :  0.00346273315012455 , and Accuracy =  84.626\n",
            "Testing Loss :  0.005654558229446411  and Test Accuracy =  81.18\n",
            "\n",
            "Epoch: 31\n",
            "Training Loss :  0.0033778069120645525 , and Accuracy =  85.098\n",
            "Testing Loss :  0.005806267845630646  and Test Accuracy =  80.83\n",
            "\n",
            "Epoch: 32\n",
            "Training Loss :  0.003485018022060394 , and Accuracy =  84.574\n",
            "Testing Loss :  0.005706175172328949  and Test Accuracy =  81.31\n",
            "\n",
            "Epoch: 33\n",
            "Training Loss :  0.003249350056946278 , and Accuracy =  85.568\n",
            "Testing Loss :  0.005778289318084716  and Test Accuracy =  81.46\n",
            "\n",
            "Epoch: 34\n",
            "Training Loss :  0.0031691731786727905 , and Accuracy =  86.116\n",
            "Testing Loss :  0.005231593105196953  and Test Accuracy =  82.52\n",
            "\n",
            "Epoch: 35\n",
            "Training Loss :  0.003206839455664158 , and Accuracy =  85.692\n",
            "Testing Loss :  0.005402219808101654  and Test Accuracy =  82.36\n",
            "\n",
            "Epoch: 36\n",
            "Training Loss :  0.0031028790044784547 , and Accuracy =  86.26\n",
            "Testing Loss :  0.0052760514140129085  and Test Accuracy =  82.74\n",
            "\n",
            "Epoch: 37\n",
            "Training Loss :  0.0030781127882003783 , and Accuracy =  86.368\n",
            "Testing Loss :  0.005265798872709274  and Test Accuracy =  82.82\n",
            "\n",
            "Epoch: 38\n",
            "Training Loss :  0.0030032397636771202 , and Accuracy =  86.608\n",
            "Testing Loss :  0.005911046236753464  and Test Accuracy =  81.41\n",
            "\n",
            "Epoch: 39\n",
            "Training Loss :  0.002952162482738495 , and Accuracy =  86.608\n",
            "Testing Loss :  0.005675970131158828  and Test Accuracy =  82.62\n",
            "\n",
            "Epoch: 40\n",
            "Training Loss :  0.0028676695546507834 , and Accuracy =  87.27\n",
            "Testing Loss :  0.005328385320305824  and Test Accuracy =  83.23\n",
            "\n",
            "Epoch: 41\n",
            "Training Loss :  0.0028944967463612557 , and Accuracy =  87.22\n",
            "Testing Loss :  0.005244068747758865  and Test Accuracy =  83.05\n",
            "\n",
            "Epoch: 42\n",
            "Training Loss :  0.002798262653052807 , and Accuracy =  87.604\n",
            "Testing Loss :  0.005463246521353721  and Test Accuracy =  82.77\n",
            "\n",
            "Epoch: 43\n",
            "Training Loss :  0.002790886582136154 , and Accuracy =  87.598\n",
            "Testing Loss :  0.00543511737883091  and Test Accuracy =  82.66\n",
            "\n",
            "Epoch: 44\n",
            "Training Loss :  0.0027091339510679244 , and Accuracy =  88.08\n",
            "Testing Loss :  0.005392673349380493  and Test Accuracy =  82.69\n",
            "\n",
            "Epoch: 45\n",
            "Training Loss :  0.0026425534904003143 , and Accuracy =  88.238\n",
            "Testing Loss :  0.005389697667956352  and Test Accuracy =  83.45\n"
          ]
        }
      ]
    },
    {
      "cell_type": "code",
      "metadata": {
        "colab": {
          "base_uri": "https://localhost:8080/",
          "height": 474,
          "referenced_widgets": [
            "306c9fc905fd4710953f300cd7357de7",
            "a64acde166b14caea00733bcc1740dd5",
            "ebaa76d2e6484b629c7aeca1005f089d",
            "410ab710e0a747268d6ae8289d31fee0",
            "5ceeb6e722554c62b7ba77d56de63819",
            "b1a3cd54fbd4434fa54a06d690ef72fc",
            "f189119f4dd745c8b3a061da0d6df946",
            "3e26f3451325450b8ac8640f98bc4b3c"
          ]
        },
        "id": "lf9BGAPJZA3X",
        "outputId": "6186b050-c830-488c-8fea-168707c2970b"
      },
      "source": [
        "resnet18_Unfreezed_Adam = wandb.Artifact('resnet18_Unfreezed_Adam', type='model')\n",
        "resnet18_Unfreezed_Adam.add_file('resnet18_Unfreezed_Adam.pth')\n",
        "run.log_artifact(resnet18_Unfreezed_Adam)\n",
        "best_resnet18_Unfreezed_Adam = torch.load('resnet18_Unfreezed_Adam.pth')\n",
        "\n",
        "wandb.log({\n",
        "    \"resnet18_Unfrozen_Adam_Confusion_Matrix\": wandb.plot.confusion_matrix(\n",
        "    preds = best_resnet18_Unfreezed_SGD['Predictions'],\n",
        "    y_true = best_resnet18_Unfreezed_SGD['Target List'],\n",
        "    class_names = classes) \n",
        "})\n",
        "config.best_test_accuracy = best_resnet18_Unfreezed_SGD['Testing Accuracy']\n",
        "wandb.finish()\n",
        "\n",
        "print(\"Best Model accuracy for Resnet-18 with Adam Optimization\" , best_resnet18_Unfreezed_SGD['Testing Accuracy'])"
      ],
      "execution_count": null,
      "outputs": [
        {
          "output_type": "display_data",
          "data": {
            "text/html": [
              "<br/>Waiting for W&B process to finish, PID 4801<br/>Program ended successfully."
            ],
            "text/plain": [
              "<IPython.core.display.HTML object>"
            ]
          },
          "metadata": {}
        },
        {
          "output_type": "display_data",
          "data": {
            "application/vnd.jupyter.widget-view+json": {
              "model_id": "306c9fc905fd4710953f300cd7357de7",
              "version_minor": 0,
              "version_major": 2
            },
            "text/plain": [
              "VBox(children=(Label(value=' 52.89MB of 52.89MB uploaded (0.00MB deduped)\\r'), FloatProgress(value=1.0, max=1.…"
            ]
          },
          "metadata": {}
        },
        {
          "output_type": "display_data",
          "data": {
            "text/html": [
              "Find user logs for this run at: <code>/content/wandb/run-20210919_140944-kznshqc4/logs/debug.log</code>"
            ],
            "text/plain": [
              "<IPython.core.display.HTML object>"
            ]
          },
          "metadata": {}
        },
        {
          "output_type": "display_data",
          "data": {
            "text/html": [
              "Find internal logs for this run at: <code>/content/wandb/run-20210919_140944-kznshqc4/logs/debug-internal.log</code>"
            ],
            "text/plain": [
              "<IPython.core.display.HTML object>"
            ]
          },
          "metadata": {}
        },
        {
          "output_type": "display_data",
          "data": {
            "text/html": [
              "<h3>Run summary:</h3><br/><style>\n",
              "    table.wandb td:nth-child(1) { padding: 0 10px; text-align: right }\n",
              "    </style><table class=\"wandb\">\n",
              "<tr><td>Testing Accuracy</td><td>83.45</td></tr><tr><td>Testing Loss</td><td>0.00539</td></tr><tr><td>Training Accuracy</td><td>88.238</td></tr><tr><td>Training Loss</td><td>0.00264</td></tr></table>"
            ],
            "text/plain": [
              "<IPython.core.display.HTML object>"
            ]
          },
          "metadata": {}
        },
        {
          "output_type": "display_data",
          "data": {
            "text/html": [
              "<h3>Run history:</h3><br/><style>\n",
              "    table.wandb td:nth-child(1) { padding: 0 10px; text-align: right }\n",
              "    </style><table class=\"wandb\">\n",
              "<tr><td>Testing Accuracy</td><td>▁▃▄▄▅▆▆▆▆▇▇▇▇▇▇▇▇▇▇▇█▆██████████████████</td></tr><tr><td>Testing Loss</td><td>█▇▅▅▄▃▃▃▃▂▃▂▂▃▂▂▁▂▂▂▁▃▁▁▁▁▁▁▁▁▁▁▁▁▁▁▁▁▁▁</td></tr><tr><td>Training Accuracy</td><td>▁▃▄▄▅▅▆▆▆▆▇▇▇▇▇▇▇▇▇▇▇▇▇█████████████████</td></tr><tr><td>Training Loss</td><td>█▆▅▄▄▄▃▃▃▃▂▂▂▂▂▂▂▂▂▂▂▂▂▁▁▁▁▁▁▁▁▁▁▁▁▁▁▁▁▁</td></tr></table><br/>"
            ],
            "text/plain": [
              "<IPython.core.display.HTML object>"
            ]
          },
          "metadata": {}
        },
        {
          "output_type": "display_data",
          "data": {
            "text/html": [
              "Synced 5 W&B file(s), 4601 media file(s), 2 artifact file(s) and 0 other file(s)"
            ],
            "text/plain": [
              "<IPython.core.display.HTML object>"
            ]
          },
          "metadata": {}
        },
        {
          "output_type": "display_data",
          "data": {
            "text/html": [
              "\n",
              "                    <br/>Synced <strong style=\"color:#cdcd00\">1b</strong>: <a href=\"https://wandb.ai/altafahmad/Asg1/runs/kznshqc4\" target=\"_blank\">https://wandb.ai/altafahmad/Asg1/runs/kznshqc4</a><br/>\n",
              "                "
            ],
            "text/plain": [
              "<IPython.core.display.HTML object>"
            ]
          },
          "metadata": {}
        },
        {
          "output_type": "stream",
          "name": "stdout",
          "text": [
            "Best Model accuracy for Resnet-18 with Adam Optimization 83.07\n"
          ]
        }
      ]
    },
    {
      "cell_type": "markdown",
      "metadata": {
        "id": "4l-0DCUtiLHF"
      },
      "source": [
        "2 (a) Freezing the other layers and fine tuning only the last layer using SGD"
      ]
    },
    {
      "cell_type": "code",
      "metadata": {
        "colab": {
          "base_uri": "https://localhost:8080/",
          "height": 1000
        },
        "id": "AAEqLpG-iKBL",
        "outputId": "09264d6f-241b-4b06-87a7-680d092ce805"
      },
      "source": [
        "run = wandb.init(name = \"2a\",project = \"Asg1\")\n",
        "wandb.watch(net2_SGD, log = \"all\")\n",
        "\n",
        "config = wandb.config\n",
        "config.batch_size = 128\n",
        "config.test_batch_size = 100\n",
        "config.lr = 0.001\n",
        "config.momentum = 0.9\n",
        "\n",
        "early_stop = [False,0]\n",
        "\n",
        "global best_loss\n",
        "best_loss = float('inf')\n",
        "\n",
        "for epoch in range(200):\n",
        "    \n",
        "    train_loss,train_acc = train(net2_SGD,optimizer2_SGD)\n",
        "    test_loss,test_acc,samples = test(net2_SGD,early_stop,\"Freezed\",\"SGD\")\n",
        "    \n",
        "    wandb.log({\n",
        "                \"Training Loss\":train_loss,\n",
        "                \"Training Accuracy\":train_acc,\n",
        "                \"Testing Loss\":test_loss,\n",
        "                \"Testing Accuracy\": test_acc,\n",
        "                \"Prediction Samples\":samples\n",
        "                })\n",
        "    \n",
        "    if early_stop[0] :\n",
        "        break\n",
        "        \n"
      ],
      "execution_count": null,
      "outputs": [
        {
          "output_type": "display_data",
          "data": {
            "text/html": [
              "\n",
              "                Tracking run with wandb version 0.12.2<br/>\n",
              "                Syncing run <strong style=\"color:#cdcd00\">2a</strong> to <a href=\"https://wandb.ai\" target=\"_blank\">Weights & Biases</a> <a href=\"https://docs.wandb.com/integrations/jupyter.html\" target=\"_blank\">(Documentation)</a>.<br/>\n",
              "                Project page: <a href=\"https://wandb.ai/altafahmad/Asg1\" target=\"_blank\">https://wandb.ai/altafahmad/Asg1</a><br/>\n",
              "                Run page: <a href=\"https://wandb.ai/altafahmad/Asg1/runs/svgu3rya\" target=\"_blank\">https://wandb.ai/altafahmad/Asg1/runs/svgu3rya</a><br/>\n",
              "                Run data is saved locally in <code>/content/wandb/run-20210919_155356-svgu3rya</code><br/><br/>\n",
              "            "
            ],
            "text/plain": [
              "<IPython.core.display.HTML object>"
            ]
          },
          "metadata": {}
        },
        {
          "output_type": "stream",
          "name": "stdout",
          "text": [
            "\n",
            "Epoch: 0\n",
            "Training Loss :  0.015182906448841096 , and Accuracy =  30.958\n",
            "Testing Loss :  0.018125318920612334  and Test Accuracy =  36.87\n",
            "\n",
            "Epoch: 1\n",
            "Training Loss :  0.013665075402259827 , and Accuracy =  39.014\n",
            "Testing Loss :  0.017483640253543854  and Test Accuracy =  39.48\n",
            "\n",
            "Epoch: 2\n",
            "Training Loss :  0.013357196466922761 , and Accuracy =  40.066\n",
            "Testing Loss :  0.017252812278270722  and Test Accuracy =  40.1\n",
            "\n",
            "Epoch: 3\n",
            "Training Loss :  0.013216595256328583 , and Accuracy =  40.678\n",
            "Testing Loss :  0.017247617387771606  and Test Accuracy =  39.94\n",
            "\n",
            "Epoch: 4\n",
            "Training Loss :  0.01312051253080368 , and Accuracy =  41.424\n",
            "Testing Loss :  0.017246657812595368  and Test Accuracy =  40.13\n",
            "\n",
            "Epoch: 5\n",
            "Training Loss :  0.01305764358997345 , and Accuracy =  41.69\n",
            "Testing Loss :  0.016882874262332915  and Test Accuracy =  41.22\n",
            "\n",
            "Epoch: 6\n",
            "Training Loss :  0.013039245822429657 , and Accuracy =  41.878\n",
            "Testing Loss :  0.016879298317432404  and Test Accuracy =  41.97\n",
            "\n",
            "Epoch: 7\n",
            "Training Loss :  0.012989199838638306 , and Accuracy =  41.928\n",
            "Testing Loss :  0.01693339970111847  and Test Accuracy =  41.54\n",
            "\n",
            "Epoch: 8\n",
            "Training Loss :  0.012986045868396759 , and Accuracy =  42.046\n",
            "Testing Loss :  0.01699659996032715  and Test Accuracy =  41.46\n",
            "\n",
            "Epoch: 9\n",
            "Training Loss :  0.012948837766647339 , and Accuracy =  41.802\n",
            "Testing Loss :  0.01691089117527008  and Test Accuracy =  41.43\n",
            "\n",
            "Epoch: 10\n",
            "Training Loss :  0.012894266827106475 , and Accuracy =  42.458\n",
            "Testing Loss :  0.016766595244407653  and Test Accuracy =  41.85\n",
            "\n",
            "Epoch: 11\n",
            "Training Loss :  0.012921628139019013 , and Accuracy =  42.192\n",
            "Testing Loss :  0.016767169201374055  and Test Accuracy =  42.68\n",
            "\n",
            "Epoch: 12\n",
            "Training Loss :  0.012844419941902161 , and Accuracy =  42.894\n",
            "Testing Loss :  0.016904965233802794  and Test Accuracy =  41.86\n",
            "\n",
            "Epoch: 13\n",
            "Training Loss :  0.012908112423419953 , and Accuracy =  42.174\n",
            "Testing Loss :  0.016860668909549712  and Test Accuracy =  41.38\n",
            "\n",
            "Epoch: 14\n",
            "Training Loss :  0.012927133433818816 , and Accuracy =  42.326\n",
            "Testing Loss :  0.01677873775959015  and Test Accuracy =  42.2\n",
            "\n",
            "Epoch: 15\n",
            "Training Loss :  0.012841421217918396 , and Accuracy =  42.454\n",
            "Testing Loss :  0.016784015643596648  and Test Accuracy =  41.7\n",
            "\n",
            "Epoch: 16\n",
            "Training Loss :  0.012869302806854247 , and Accuracy =  42.274\n",
            "Testing Loss :  0.01688732681274414  and Test Accuracy =  41.68\n",
            "\n",
            "Epoch: 17\n",
            "Training Loss :  0.012858429229259491 , and Accuracy =  42.618\n",
            "Testing Loss :  0.016737403655052184  and Test Accuracy =  41.77\n",
            "\n",
            "Epoch: 18\n",
            "Training Loss :  0.012934349455833435 , and Accuracy =  42.354\n",
            "Testing Loss :  0.016777421414852143  and Test Accuracy =  42.27\n",
            "\n",
            "Epoch: 19\n",
            "Training Loss :  0.012853951170444489 , and Accuracy =  42.53\n",
            "Testing Loss :  0.01682740172147751  and Test Accuracy =  41.68\n",
            "\n",
            "Epoch: 20\n",
            "Training Loss :  0.012858041241168976 , and Accuracy =  42.318\n",
            "Testing Loss :  0.016732122206687926  and Test Accuracy =  42.4\n",
            "\n",
            "Epoch: 21\n",
            "Training Loss :  0.012869888696670531 , and Accuracy =  42.34\n",
            "Testing Loss :  0.01683100497722626  and Test Accuracy =  41.6\n",
            "\n",
            "Epoch: 22\n",
            "Training Loss :  0.012896365094184875 , and Accuracy =  42.612\n",
            "Testing Loss :  0.016739892566204072  and Test Accuracy =  41.97\n",
            "\n",
            "Epoch: 23\n",
            "Training Loss :  0.012804877529144287 , and Accuracy =  42.676\n",
            "Testing Loss :  0.016855657756328583  and Test Accuracy =  42.02\n",
            "\n",
            "Epoch: 24\n",
            "Training Loss :  0.012864896285533904 , and Accuracy =  42.682\n",
            "Testing Loss :  0.016753885781764986  and Test Accuracy =  41.91\n",
            "\n",
            "Epoch: 25\n",
            "Training Loss :  0.012830013706684112 , and Accuracy =  42.706\n",
            "Testing Loss :  0.016773638784885407  and Test Accuracy =  42.72\n",
            "\n",
            "Epoch: 26\n",
            "Training Loss :  0.012795008225440978 , and Accuracy =  42.806\n",
            "Testing Loss :  0.016721356439590454  and Test Accuracy =  41.88\n",
            "\n",
            "Epoch: 27\n",
            "Training Loss :  0.01286641082763672 , and Accuracy =  42.544\n",
            "Testing Loss :  0.016811636209487914  and Test Accuracy =  42.1\n",
            "\n",
            "Epoch: 28\n",
            "Training Loss :  0.012877477667331695 , and Accuracy =  42.278\n",
            "Testing Loss :  0.0168150559425354  and Test Accuracy =  42.02\n",
            "\n",
            "Epoch: 29\n",
            "Training Loss :  0.012818417460918427 , and Accuracy =  42.748\n",
            "Testing Loss :  0.01677967828512192  and Test Accuracy =  42.24\n",
            "\n",
            "Epoch: 30\n",
            "Training Loss :  0.012872839579582214 , and Accuracy =  42.54\n",
            "Testing Loss :  0.016755583238601685  and Test Accuracy =  42.43\n",
            "\n",
            "Epoch: 31\n",
            "Training Loss :  0.0128570489859581 , and Accuracy =  42.672\n",
            "Testing Loss :  0.016852082633972167  and Test Accuracy =  41.85\n",
            "\n",
            "Epoch: 32\n",
            "Training Loss :  0.012809116680622101 , and Accuracy =  42.534\n",
            "Testing Loss :  0.01690359880924225  and Test Accuracy =  41.62\n",
            "\n",
            "Epoch: 33\n",
            "Training Loss :  0.01281170943260193 , and Accuracy =  42.658\n",
            "Testing Loss :  0.016740921783447264  and Test Accuracy =  42.62\n",
            "\n",
            "Epoch: 34\n",
            "Training Loss :  0.012865918755531312 , and Accuracy =  42.774\n",
            "Testing Loss :  0.01677608699798584  and Test Accuracy =  42.45\n",
            "\n",
            "Epoch: 35\n",
            "Training Loss :  0.012847722356319428 , and Accuracy =  42.658\n",
            "Testing Loss :  0.016918595969676972  and Test Accuracy =  41.9\n",
            "\n",
            "Epoch: 36\n",
            "Training Loss :  0.012824168741703033 , and Accuracy =  42.484\n",
            "Testing Loss :  0.016883686923980713  and Test Accuracy =  41.82\n",
            "\n",
            "Epoch: 37\n",
            "Training Loss :  0.012835955691337586 , and Accuracy =  42.86\n",
            "Testing Loss :  0.0168979088306427  and Test Accuracy =  41.95\n"
          ]
        }
      ]
    },
    {
      "cell_type": "code",
      "metadata": {
        "colab": {
          "base_uri": "https://localhost:8080/"
        },
        "id": "kv-aOdEIpCw7",
        "outputId": "f9c73862-c6fb-4902-c465-e5f3ed0258a1"
      },
      "source": [
        "resnet18_Freezed_SGD = wandb.Artifact('resnet18_Freezed_SGD', type='model')\n",
        "resnet18_Freezed_SGD.add_file('resnet18_Freezed_SGD.pth')\n",
        "run.log_artifact(resnet18_Freezed_SGD)\n",
        "\n",
        "best_resnet18_Freezed_SGD = torch.load('resnet18_Freezed_SGD.pth')\n",
        "\n",
        "wandb.log({\n",
        "    \"resnet18_Freezed_SGD_Confusion_Matrix\": wandb.plot.confusion_matrix(\n",
        "    preds = best_resnet18_Freezed_SGD['Predictions'],\n",
        "    y_true = best_resnet18_Freezed_SGD['Target List'],\n",
        "    class_names = classes) \n",
        "})\n",
        "\n",
        "config.best_test_accuracy = best_resnet18_Freezed_SGD['Testing Accuracy']\n",
        "print(\"Best Model accuracy for Resnet-18 Frozen with SDM Optimization\" , best_resnet18_Freezed_SGD['Testing Accuracy'])"
      ],
      "execution_count": null,
      "outputs": [
        {
          "output_type": "stream",
          "name": "stdout",
          "text": [
            "Best Model accuracy for Resnet-18 Frozen with SDM Optimization 41.88\n"
          ]
        }
      ]
    },
    {
      "cell_type": "markdown",
      "metadata": {
        "id": "Aqb29ksOo7Fx"
      },
      "source": [
        "2 (b) Freezing the other layers and fine tuning only the last layer using Adam"
      ]
    },
    {
      "cell_type": "code",
      "metadata": {
        "colab": {
          "base_uri": "https://localhost:8080/",
          "height": 1000,
          "referenced_widgets": [
            "55e560d36c1d42b8b3d844ccf5edc220",
            "82a8d47e64144c01b66eef7befe9eacc",
            "740497962c3a490ca3b95304d19f2f77",
            "ffb705b5119745b9ba603a3050331841",
            "c1b1e04b095c474882b67ef870ead1c0",
            "7dccac99eacc4e5d9d2ec077b3a35f20",
            "47fe87f0a56e45f9be0020a90dfd2ebf",
            "1e533f30a192421a9060ba90e2c094d4"
          ]
        },
        "id": "VstxPok0o8SN",
        "outputId": "10141e6d-25d2-43a4-a08d-2823a1c5b3d5"
      },
      "source": [
        "run = wandb.init(name = \"2b\",project = \"Asg1\")\n",
        "wandb.watch(net2_Adam, log = \"all\")\n",
        "\n",
        "config = wandb.config\n",
        "config.batch_size = 128\n",
        "config.test_batch_size = 100\n",
        "config.lr = 0.01\n",
        "\n",
        "early_stop = [False,0]\n",
        "\n",
        "global best_loss\n",
        "best_loss = float('inf')\n",
        "\n",
        "for epoch in range(200):\n",
        "    train_loss,train_acc = train(net2_Adam,optimizer2_Adam)\n",
        "    test_loss,test_acc,samples = test(net2_Adam,early_stop,\"Freezed\",\"Adam\")\n",
        "    \n",
        "    wandb.log({\n",
        "                \"Training Loss\":train_loss,\n",
        "                \"Training Accuracy\":train_acc,\n",
        "                \"Testing Loss\":test_loss,\n",
        "                \"Testing Accuracy\": test_acc,\n",
        "                \"Prediction Samples\":samples\n",
        "                })\n",
        "    \n",
        "    if early_stop[0] :\n",
        "        break\n",
        "        \n"
      ],
      "execution_count": null,
      "outputs": [
        {
          "output_type": "display_data",
          "data": {
            "text/html": [
              "Finishing last run (ID:svgu3rya) before initializing another..."
            ],
            "text/plain": [
              "<IPython.core.display.HTML object>"
            ]
          },
          "metadata": {}
        },
        {
          "output_type": "display_data",
          "data": {
            "text/html": [
              "<br/>Waiting for W&B process to finish, PID 11418<br/>Program ended successfully."
            ],
            "text/plain": [
              "<IPython.core.display.HTML object>"
            ]
          },
          "metadata": {}
        },
        {
          "output_type": "display_data",
          "data": {
            "application/vnd.jupyter.widget-view+json": {
              "model_id": "55e560d36c1d42b8b3d844ccf5edc220",
              "version_minor": 0,
              "version_major": 2
            },
            "text/plain": [
              "VBox(children=(Label(value=' 51.14MB of 51.14MB uploaded (0.00MB deduped)\\r'), FloatProgress(value=1.0, max=1.…"
            ]
          },
          "metadata": {}
        },
        {
          "output_type": "display_data",
          "data": {
            "text/html": [
              "Find user logs for this run at: <code>/content/wandb/run-20210919_155356-svgu3rya/logs/debug.log</code>"
            ],
            "text/plain": [
              "<IPython.core.display.HTML object>"
            ]
          },
          "metadata": {}
        },
        {
          "output_type": "display_data",
          "data": {
            "text/html": [
              "Find internal logs for this run at: <code>/content/wandb/run-20210919_155356-svgu3rya/logs/debug-internal.log</code>"
            ],
            "text/plain": [
              "<IPython.core.display.HTML object>"
            ]
          },
          "metadata": {}
        },
        {
          "output_type": "display_data",
          "data": {
            "text/html": [
              "<h3>Run summary:</h3><br/><style>\n",
              "    table.wandb td:nth-child(1) { padding: 0 10px; text-align: right }\n",
              "    </style><table class=\"wandb\">\n",
              "<tr><td>Testing Accuracy</td><td>41.95</td></tr><tr><td>Testing Loss</td><td>0.0169</td></tr><tr><td>Training Accuracy</td><td>42.86</td></tr><tr><td>Training Loss</td><td>0.01284</td></tr></table>"
            ],
            "text/plain": [
              "<IPython.core.display.HTML object>"
            ]
          },
          "metadata": {}
        },
        {
          "output_type": "display_data",
          "data": {
            "text/html": [
              "<h3>Run history:</h3><br/><style>\n",
              "    table.wandb td:nth-child(1) { padding: 0 10px; text-align: right }\n",
              "    </style><table class=\"wandb\">\n",
              "<tr><td>Testing Accuracy</td><td>▁▄▅▅▅▆▇▇▆▆▇█▇▆▇▇▇▇▇▇█▇▇▇▇█▇▇▇▇█▇▇██▇▇▇</td></tr><tr><td>Testing Loss</td><td>█▅▄▄▄▂▂▂▂▂▁▁▂▂▁▁▂▁▁▂▁▂▁▂▁▁▁▁▁▁▁▂▂▁▁▂▂▂</td></tr><tr><td>Training Accuracy</td><td>▁▆▆▇▇▇▇▇█▇████████████████████████████</td></tr><tr><td>Training Loss</td><td>█▄▃▂▂▂▂▂▂▁▁▁▁▁▁▁▁▁▁▁▁▁▁▁▁▁▁▁▁▁▁▁▁▁▁▁▁▁</td></tr></table><br/>"
            ],
            "text/plain": [
              "<IPython.core.display.HTML object>"
            ]
          },
          "metadata": {}
        },
        {
          "output_type": "display_data",
          "data": {
            "text/html": [
              "Synced 5 W&B file(s), 3801 media file(s), 2 artifact file(s) and 0 other file(s)"
            ],
            "text/plain": [
              "<IPython.core.display.HTML object>"
            ]
          },
          "metadata": {}
        },
        {
          "output_type": "display_data",
          "data": {
            "text/html": [
              "\n",
              "                    <br/>Synced <strong style=\"color:#cdcd00\">2a</strong>: <a href=\"https://wandb.ai/altafahmad/Asg1/runs/svgu3rya\" target=\"_blank\">https://wandb.ai/altafahmad/Asg1/runs/svgu3rya</a><br/>\n",
              "                "
            ],
            "text/plain": [
              "<IPython.core.display.HTML object>"
            ]
          },
          "metadata": {}
        },
        {
          "output_type": "display_data",
          "data": {
            "text/html": [
              "...Successfully finished last run (ID:svgu3rya). Initializing new run:<br/><br/>"
            ],
            "text/plain": [
              "<IPython.core.display.HTML object>"
            ]
          },
          "metadata": {}
        },
        {
          "output_type": "display_data",
          "data": {
            "text/html": [
              "\n",
              "                Tracking run with wandb version 0.12.2<br/>\n",
              "                Syncing run <strong style=\"color:#cdcd00\">2b</strong> to <a href=\"https://wandb.ai\" target=\"_blank\">Weights & Biases</a> <a href=\"https://docs.wandb.com/integrations/jupyter.html\" target=\"_blank\">(Documentation)</a>.<br/>\n",
              "                Project page: <a href=\"https://wandb.ai/altafahmad/Asg1\" target=\"_blank\">https://wandb.ai/altafahmad/Asg1</a><br/>\n",
              "                Run page: <a href=\"https://wandb.ai/altafahmad/Asg1/runs/29b95jql\" target=\"_blank\">https://wandb.ai/altafahmad/Asg1/runs/29b95jql</a><br/>\n",
              "                Run data is saved locally in <code>/content/wandb/run-20210919_161711-29b95jql</code><br/><br/>\n",
              "            "
            ],
            "text/plain": [
              "<IPython.core.display.HTML object>"
            ]
          },
          "metadata": {}
        },
        {
          "output_type": "stream",
          "name": "stdout",
          "text": [
            "\n",
            "Epoch: 0\n",
            "Training Loss :  0.016109103004932405 , and Accuracy =  33.72\n",
            "Testing Loss :  0.021608196115493774  and Test Accuracy =  33.94\n",
            "\n",
            "Epoch: 1\n",
            "Training Loss :  0.015605215196609496 , and Accuracy =  35.454\n",
            "Testing Loss :  0.022647169935703277  and Test Accuracy =  34.51\n",
            "\n",
            "Epoch: 2\n",
            "Training Loss :  0.015947474386692046 , and Accuracy =  35.328\n",
            "Testing Loss :  0.020820629739761353  and Test Accuracy =  35.92\n",
            "\n",
            "Epoch: 3\n",
            "Training Loss :  0.015801969418525696 , and Accuracy =  35.434\n",
            "Testing Loss :  0.02124437971115112  and Test Accuracy =  36.51\n",
            "\n",
            "Epoch: 4\n",
            "Training Loss :  0.015921190831661224 , and Accuracy =  35.408\n",
            "Testing Loss :  0.02184988615512848  and Test Accuracy =  34.4\n",
            "\n",
            "Epoch: 5\n",
            "Training Loss :  0.01604870466709137 , and Accuracy =  35.148\n",
            "Testing Loss :  0.02198470537662506  and Test Accuracy =  35.18\n",
            "\n",
            "Epoch: 6\n",
            "Training Loss :  0.016165034775733948 , and Accuracy =  35.11\n",
            "Testing Loss :  0.021193708646297455  and Test Accuracy =  35.17\n",
            "\n",
            "Epoch: 7\n",
            "Training Loss :  0.015871588208675385 , and Accuracy =  35.432\n",
            "Testing Loss :  0.021850236427783967  and Test Accuracy =  35.27\n",
            "\n",
            "Epoch: 8\n",
            "Training Loss :  0.016159813809394838 , and Accuracy =  34.902\n",
            "Testing Loss :  0.024384133446216583  and Test Accuracy =  34.06\n",
            "\n",
            "Epoch: 9\n",
            "Training Loss :  0.016122570526599884 , and Accuracy =  35.31\n",
            "Testing Loss :  0.020848937821388244  and Test Accuracy =  37.3\n",
            "\n",
            "Epoch: 10\n",
            "Training Loss :  0.015770912525653838 , and Accuracy =  35.464\n",
            "Testing Loss :  0.02111312646865845  and Test Accuracy =  35.94\n",
            "\n",
            "Epoch: 11\n",
            "Training Loss :  0.01595019285440445 , and Accuracy =  35.454\n",
            "Testing Loss :  0.02119846612215042  and Test Accuracy =  36.46\n",
            "\n",
            "Epoch: 12\n",
            "Training Loss :  0.01609730183839798 , and Accuracy =  35.286\n",
            "Testing Loss :  0.02196510398387909  and Test Accuracy =  35.76\n",
            "\n",
            "Epoch: 13\n",
            "Training Loss :  0.015853943378925324 , and Accuracy =  35.372\n",
            "Testing Loss :  0.021596663653850556  and Test Accuracy =  36.84\n"
          ]
        }
      ]
    },
    {
      "cell_type": "code",
      "metadata": {
        "colab": {
          "base_uri": "https://localhost:8080/"
        },
        "id": "npsEdYtQ2N3Z",
        "outputId": "17cdda21-b959-4c01-aa64-8fff705154f5"
      },
      "source": [
        "resnet18_Freezed_Adam = wandb.Artifact('resnet18_Freezed_Adam', type='model')\n",
        "resnet18_Freezed_Adam.add_file('resnet18_Freezed_Adam.pth')\n",
        "run.log_artifact(resnet18_Freezed_Adam)\n",
        "\n",
        "best_resnet18_Freezed_Adam = torch.load('resnet18_Freezed_Adam.pth')\n",
        "\n",
        "wandb.log({\n",
        "    \"resnet18_Freezed_Adam_Confusion_Matrix\": wandb.plot.confusion_matrix(\n",
        "    preds = best_resnet18_Freezed_Adam['Predictions'],\n",
        "    y_true = best_resnet18_Freezed_Adam['Target List'],\n",
        "    class_names = classes) \n",
        "})\n",
        "\n",
        "config.best_test_accuracy = best_resnet18_Freezed_Adam['Testing Accuracy']\n",
        "\n",
        "print(\"Best Model accuracy for Resnet-18 Frozen with Adam Optimization\" , best_resnet18_Freezed_Adam['Testing Accuracy'])"
      ],
      "execution_count": null,
      "outputs": [
        {
          "output_type": "stream",
          "name": "stdout",
          "text": [
            "Best Model accuracy for Resnet-18 Frozen with Adam Optimization 35.92\n"
          ]
        }
      ]
    },
    {
      "cell_type": "markdown",
      "metadata": {
        "id": "W1wLlaVmIOZo"
      },
      "source": [
        "Link to the final report is [here](https://wandb.ai/altafahmad/Asg1/reports/Scalable-Data-Mining--VmlldzoxMDM3MTg3). "
      ]
    }
  ]
}